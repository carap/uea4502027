{
 "cells": [
  {
   "cell_type": "markdown",
   "metadata": {},
   "source": [
    "# Last time...\n",
    "\n",
    "+ Simple linear regression\n",
    "+ Linear algebra breviary\n",
    "    + Pre-multiplication (left-side) and Pos-multiplication (right-side)\n",
    "    + **Left-side products** (*pre-multiplications*) affect the **row space** in $\\mathbf{A}$\n",
    "    + **Right-side products** (*pos-multiplications*) affect the **column space** in $\\mathbf{A}$\n",
    "    + Elementary matrix operations (Type I, II, III)\n",
    "    + **Elementary matrix** is created by performing an **elementary operation** to an **identity matrix**."
   ]
  },
  {
   "cell_type": "markdown",
   "metadata": {},
   "source": [
    "---\n",
    "# Linear regression - 1st Example: $\\mathcal{D}=\\{p_1, p_2\\}$\n",
    "\n",
    "---\n",
    "In our linear regression example"
   ]
  },
  {
   "cell_type": "markdown",
   "metadata": {},
   "source": [
    "$$\n",
    "\\begin{bmatrix}\n",
    "1 & 1 \\\\\n",
    "1 & 3 \\\\\n",
    "\\end{bmatrix}\n",
    "\\cdot\n",
    "\\begin{bmatrix} \n",
    "\\beta_{0}\\\\ \\beta_{1}\n",
    "\\end{bmatrix} \n",
    "=\n",
    "\\begin{bmatrix} \n",
    "1\\\\ 2\n",
    "\\end{bmatrix} \n",
    "$$"
   ]
  },
  {
   "cell_type": "markdown",
   "metadata": {},
   "source": [
    "we used **row reduction** to solve the matrix equation\n",
    "\n",
    "$$ \n",
    "\\mathbf{A} \\cdot \\boldsymbol{\\beta} = \\mathbf{y} \n",
    "$$\n",
    "\n",
    "We can summarize the row reduction as a sequence of **elementary matrix operations**"
   ]
  },
  {
   "cell_type": "markdown",
   "metadata": {},
   "source": [
    "$$\n",
    "\\begin{bmatrix}\n",
    "1 & 0\\\\\n",
    "0 & 1\\\\\n",
    "\\end{bmatrix}\n",
    "= \n",
    "\\mathbf{E}_3\n",
    "\\cdot\n",
    "\\mathbf{E}_2\n",
    "\\cdot\n",
    "\\mathbf{E}_3\n",
    "\\cdot\n",
    "\\begin{bmatrix}\n",
    "1 & 1\\\\\n",
    "1 & 3\\\\\n",
    "\\end{bmatrix}\n",
    "$$"
   ]
  },
  {
   "cell_type": "markdown",
   "metadata": {},
   "source": [
    "$$\n",
    "\\begin{bmatrix}\n",
    "1 & 0\\\\\n",
    "0 & 1\\\\\n",
    "\\end{bmatrix}\n",
    "= \n",
    "\\mathbf{E}\n",
    "\\cdot\n",
    "\\begin{bmatrix}\n",
    "1 & 1\\\\\n",
    "1 & 3\\\\\n",
    "\\end{bmatrix}\n",
    "$$"
   ]
  },
  {
   "cell_type": "markdown",
   "metadata": {},
   "source": [
    "$$\n",
    "\\mathbf{I}\n",
    "= \n",
    "\\mathbf{E}\n",
    "\\cdot\n",
    "\\mathbf{A}\n",
    "$$"
   ]
  },
  {
   "cell_type": "markdown",
   "metadata": {},
   "source": [
    "$$\n",
    "\\mathbf{E}\n",
    "=\n",
    "\\mathbf{A}^{-1} \n",
    "$$\n"
   ]
  },
  {
   "cell_type": "markdown",
   "metadata": {},
   "source": [
    "or equivalently, \n",
    "\n",
    "$$\n",
    "\\begin{bmatrix}\n",
    "1 & 0\\\\\n",
    "0 & 1\\\\\n",
    "\\end{bmatrix}\n",
    "= \n",
    "\\begin{bmatrix}\n",
    "\\frac{3}{2} & -\\frac{1}{2} \\\\\n",
    "-\\frac{1}{2} & \\frac{1}{2}\\\\\n",
    "\\end{bmatrix}\n",
    "\\cdot\n",
    "\\begin{bmatrix}\n",
    "1 & 1\\\\\n",
    "1 & 3\\\\\n",
    "\\end{bmatrix}\n",
    "$$"
   ]
  },
  {
   "cell_type": "markdown",
   "metadata": {},
   "source": [
    "therefore,  by finding the **elementary matrices**, which drives $\\mathbf{A}$ to $\\mathbf{A}$, the identity matrix, we are actually finding the **inverse** of $\\mathbf{A}$, denoted $\\mathbf{A}^{-1}$.\n",
    "\n",
    "> ** How do we determine whether a matrix has an inverse? **\n",
    "+ The invertible matrix theorem"
   ]
  },
  {
   "cell_type": "markdown",
   "metadata": {},
   "source": [
    "Once we have $\\mathbf{A}^{-1}$, we can write the following **pre-multiplication**\n",
    "\n",
    "$$ \n",
    "\\begin{align*}\n",
    "\\mathbf{A}^{-1} \\cdot \\mathbf{A} \\cdot \\boldsymbol{\\beta} \n",
    "&=  \\mathbf{A}^{-1} \\cdot \\mathbf{y} \\\\\n",
    "\\mathbf{I} \\cdot \\boldsymbol{\\beta} \n",
    "&= \\mathbf{A}^{-1} \\cdot \\mathbf{y} \\\\\n",
    "\\boldsymbol{\\beta} \n",
    "&= \\mathbf{A}^{-1} \\cdot \\mathbf{y} \n",
    "\\end{align*}\n",
    "$$\n",
    "\n",
    "\n",
    "which is the **exact solution** for our system of equations."
   ]
  },
  {
   "cell_type": "markdown",
   "metadata": {},
   "source": [
    "Notice that in our system \n",
    "\n",
    "$$\n",
    "\\begin{bmatrix}\n",
    "1 & 1 \\\\\n",
    "1 & 3 \\\\\n",
    "\\end{bmatrix}\n",
    "\\cdot\n",
    "\\begin{bmatrix} \n",
    "\\beta_{0}\\\\ \\beta_{1}\n",
    "\\end{bmatrix} \n",
    "=\n",
    "\\begin{bmatrix} \n",
    "1\\\\ 2\n",
    "\\end{bmatrix} \n",
    "$$"
   ]
  },
  {
   "cell_type": "markdown",
   "metadata": {},
   "source": [
    "we are looking for \n",
    "\n",
    "$$\n",
    "\\beta_{0}\n",
    "\\begin{bmatrix}\n",
    "1 \\\\ 1\n",
    "\\end{bmatrix}\n",
    "+\n",
    "\\beta_{1}\n",
    "\\begin{bmatrix}\n",
    "1 \\\\ 3 \n",
    "\\end{bmatrix}\n",
    "=\n",
    "\\begin{bmatrix} \n",
    "1\\\\ 2\n",
    "\\end{bmatrix} \n",
    "$$\n"
   ]
  },
  {
   "cell_type": "markdown",
   "metadata": {},
   "source": [
    "and we found the solution $ \\boldsymbol{\\beta} = \\begin{bmatrix} \\beta_{0}\\\\ \\beta_{1} \\end{bmatrix}  = \\begin{bmatrix} \\frac{1}{2}\\\\ \\frac{1}{2} \\end{bmatrix} $\n"
   ]
  },
  {
   "cell_type": "markdown",
   "metadata": {},
   "source": [
    "so, what we actually found was\n",
    "\n",
    "$$\n",
    "0.5\n",
    "\\begin{bmatrix}\n",
    "1 \\\\ 1\n",
    "\\end{bmatrix}\n",
    "+\n",
    "0.5\n",
    "\\begin{bmatrix}\n",
    "1 \\\\ 3 \n",
    "\\end{bmatrix}\n",
    "=\n",
    "\\begin{bmatrix} \n",
    "1\\\\ 2\n",
    "\\end{bmatrix} \n",
    "$$\n"
   ]
  },
  {
   "cell_type": "markdown",
   "metadata": {},
   "source": [
    "![alt text](./images/col-space-eg.svg \"Column space of Matrix A\")"
   ]
  },
  {
   "cell_type": "markdown",
   "metadata": {},
   "source": [
    "In summary...\n",
    "\n",
    "the system $\\mathbf{A} \\cdot \\boldsymbol{\\beta} = \\mathbf{y}$ has solution since $\\mathbf{y} \\in  \\mathcal{C}(\\mathbf{A})$, i.e., it can be expressed as a **linear combination** of the vectors in  $\\mathcal{C}(\\mathbf{A})$\n",
    "\n",
    "$$\n",
    "\\begin{align*}\n",
    "\\mathbf{y} \n",
    "&=  \\begin{bmatrix} \\mathbf{A}_{*1} & \\mathbf{A}_{*2} \\\\ \\end{bmatrix} \\cdot \\begin{bmatrix} \\beta_{0}\\\\ \\beta_{1} \\end{bmatrix} \\\\\n",
    "&= \\beta_{0}\\mathbf{A}_{*1}  + \\beta_{1}\\mathbf{A}_{*2}\n",
    "\\end{align*}\n",
    "$$\n",
    "\n"
   ]
  },
  {
   "cell_type": "markdown",
   "metadata": {},
   "source": [
    "> In general, $\\mathbf{A}\\cdot \\mathbf{x}=\\mathbf{b}$ has solution when $\\mathbf{b} \\in \\; \\mathcal{C}(\\mathbf{A})$, i.e., when $\\mathbf{b}$ is a **linear combination** of the columns in $\\mathbf{A}$\n"
   ]
  },
  {
   "cell_type": "markdown",
   "metadata": {},
   "source": [
    "---\n",
    "# 2nd Example: $\\mathcal{D}=\\{p_1, p_2, p_3\\}$\n",
    "---"
   ]
  },
  {
   "cell_type": "markdown",
   "metadata": {},
   "source": [
    "We moved to a something slightly more complicated, \n",
    "which was to **fit a line** through **three points**.\n",
    "Thus, our new system was given the followign dataset:\n",
    "\n",
    "point | x | y\n",
    "- | - | -\n",
    "$p_1$ | 1 | 1\n",
    "$p_2$ | 3 | 2\n",
    "$p_3$ | 4 | 1.5\n"
   ]
  },
  {
   "cell_type": "code",
   "execution_count": 1,
   "metadata": {
    "scrolled": true
   },
   "outputs": [
    {
     "data": {
      "image/png": "[encoded data removed]",
      "text/plain": [
       "<matplotlib.figure.Figure at 0x7f1e3c132a20>"
      ]
     },
     "metadata": {},
     "output_type": "display_data"
    }
   ],
   "source": [
    "import matplotlib.pyplot as plt\n",
    "%matplotlib inline\n",
    "\n",
    "# (1,1), (3,2), (4,1.5)\n",
    "# horizontal lines\n",
    "plt.plot([0, 1], [1,1], color='grey', linewidth=2,linestyle='dotted')\n",
    "plt.plot([0, 3], [2,2], color='grey', linewidth=2,linestyle='dotted')\n",
    "plt.plot([0, 4], [1.5,1.5], color='grey', linewidth=2,linestyle='dotted')\n",
    "# vertical lines\n",
    "plt.plot([1,1],[0,1], color='grey', linewidth=2,linestyle='dotted')\n",
    "plt.plot([3,3],[0,2], color='grey', linewidth=2,linestyle='dotted')\n",
    "plt.plot([4,4],[0,1.5], color='grey', linewidth=2,linestyle='dotted')\n",
    "\n",
    "plt.plot([1,3,4],[1,2,1.5], 'd', markersize=10)\n",
    "plt.xlabel('x')\n",
    "plt.ylabel('y')\n",
    "plt.show()"
   ]
  },
  {
   "cell_type": "markdown",
   "metadata": {},
   "source": [
    "Due to there is no line that *exactly fit* these three points, we should be able to find, ***at least***, the **closer line** to the points\n",
    "+ fortunately, the **matrix formulation** we have seen, has the virtue that it is **generalizable** when problems becomes more complicated.\n",
    "\n",
    "\n",
    "As we know, in **linear regression**, our **hypothesis** is that the **functional relationship** *underlying* the data set can be **modeled** as a **line**, represented as:\n",
    "\n",
    "$$\n",
    "\\begin{align*}\n",
    "y &= f(x) \\\\\n",
    "  &= \\beta_0 x_0 + \\beta_{1}x_{1} \\quad  \\text{where $x_0=1$}\\\\\n",
    "  &= \\sum_{i=0}^1 \\beta_{i}x_{i} \\\\\n",
    "\\end{align*}\n",
    "$$"
   ]
  },
  {
   "cell_type": "markdown",
   "metadata": {},
   "source": [
    "Thus, let's update our **system of equations** to accommodate the additional point $p_3$\n",
    "\n",
    "point | $x_0$ | $x_1$| $y$ | M o d e l :  $ y = \\beta_{0} x_{0} + \\beta_1 x_1 $\n",
    "-|-|-|-|-\n",
    "$p_1$ |1|1|1| $\\small{1 = \\beta_0 (1) + \\beta_{1} (1)}$  \n",
    "$p_2$ |1|3|2| $\\small{2 = \\beta_0 (1) + \\beta_{1} (3)}$ \n",
    "$p_3$ |1|4|1.5| $\\small{ 1.5 = \\beta_0 (1) + \\beta_{1} (4)}$ "
   ]
  },
  {
   "cell_type": "markdown",
   "metadata": {},
   "source": [
    "> Now, in our updated system, we have **two unknowns** and **three equations** or **constraints** \n",
    "+ this type of systems are commonly referred as **overdetermined system**\n",
    "+ generally implies that there is no **exact solution**."
   ]
  },
  {
   "cell_type": "markdown",
   "metadata": {},
   "source": [
    "Again, the system can be written as the matrix equation $\\mathbf{A} \\cdot \\boldsymbol{\\beta} = \\mathbf{y} $, \n",
    "\n",
    "$$\n",
    "\\begin{bmatrix}\n",
    "1 & 1 \\\\ 1 & 3 \\\\ 1 & 4 \\\\\n",
    "\\end{bmatrix}\n",
    "\\cdot\n",
    "\\begin{bmatrix} \n",
    "\\beta_{0}\\\\ \\beta_{1}\n",
    "\\end{bmatrix} \n",
    "=\n",
    "\\begin{bmatrix} \n",
    "1\\\\ 2 \\\\ 1.5\n",
    "\\end{bmatrix} \n",
    "$$"
   ]
  },
  {
   "cell_type": "code",
   "execution_count": 1,
   "metadata": {
    "scrolled": true
   },
   "outputs": [
    {
     "ename": "LinAlgError",
     "evalue": "Last 2 dimensions of the array must be square",
     "output_type": "error",
     "traceback": [
      "\u001b[0;31m---------------------------------------------------------------------------\u001b[0m",
      "\u001b[0;31mLinAlgError\u001b[0m                               Traceback (most recent call last)",
      "\u001b[0;32m<ipython-input-1-469fa74aa26e>\u001b[0m in \u001b[0;36m<module>\u001b[0;34m()\u001b[0m\n\u001b[1;32m      5\u001b[0m \u001b[0my\u001b[0m \u001b[0;34m=\u001b[0m \u001b[0mmatrix\u001b[0m\u001b[0;34m(\u001b[0m\u001b[0;34m'1 ; 2 ; 1.5'\u001b[0m\u001b[0;34m)\u001b[0m\u001b[0;34m\u001b[0m\u001b[0m\n\u001b[1;32m      6\u001b[0m \u001b[0;34m\u001b[0m\u001b[0m\n\u001b[0;32m----> 7\u001b[0;31m \u001b[0mbeta\u001b[0m\u001b[0;34m=\u001b[0m \u001b[0mdot\u001b[0m\u001b[0;34m(\u001b[0m\u001b[0minv\u001b[0m\u001b[0;34m(\u001b[0m\u001b[0mA\u001b[0m\u001b[0;34m)\u001b[0m\u001b[0;34m,\u001b[0m \u001b[0my\u001b[0m\u001b[0;34m)\u001b[0m\u001b[0;34m\u001b[0m\u001b[0m\n\u001b[0m",
      "\u001b[0;32m/usr/lib/python3/dist-packages/numpy/linalg/linalg.py\u001b[0m in \u001b[0;36minv\u001b[0;34m(a)\u001b[0m\n\u001b[1;32m    515\u001b[0m     \u001b[0ma\u001b[0m\u001b[0;34m,\u001b[0m \u001b[0mwrap\u001b[0m \u001b[0;34m=\u001b[0m \u001b[0m_makearray\u001b[0m\u001b[0;34m(\u001b[0m\u001b[0ma\u001b[0m\u001b[0;34m)\u001b[0m\u001b[0;34m\u001b[0m\u001b[0m\n\u001b[1;32m    516\u001b[0m     \u001b[0m_assertRankAtLeast2\u001b[0m\u001b[0;34m(\u001b[0m\u001b[0ma\u001b[0m\u001b[0;34m)\u001b[0m\u001b[0;34m\u001b[0m\u001b[0m\n\u001b[0;32m--> 517\u001b[0;31m     \u001b[0m_assertNdSquareness\u001b[0m\u001b[0;34m(\u001b[0m\u001b[0ma\u001b[0m\u001b[0;34m)\u001b[0m\u001b[0;34m\u001b[0m\u001b[0m\n\u001b[0m\u001b[1;32m    518\u001b[0m     \u001b[0mt\u001b[0m\u001b[0;34m,\u001b[0m \u001b[0mresult_t\u001b[0m \u001b[0;34m=\u001b[0m \u001b[0m_commonType\u001b[0m\u001b[0;34m(\u001b[0m\u001b[0ma\u001b[0m\u001b[0;34m)\u001b[0m\u001b[0;34m\u001b[0m\u001b[0m\n\u001b[1;32m    519\u001b[0m \u001b[0;34m\u001b[0m\u001b[0m\n",
      "\u001b[0;32m/usr/lib/python3/dist-packages/numpy/linalg/linalg.py\u001b[0m in \u001b[0;36m_assertNdSquareness\u001b[0;34m(*arrays)\u001b[0m\n\u001b[1;32m    210\u001b[0m     \u001b[0;32mfor\u001b[0m \u001b[0ma\u001b[0m \u001b[0;32min\u001b[0m \u001b[0marrays\u001b[0m\u001b[0;34m:\u001b[0m\u001b[0;34m\u001b[0m\u001b[0m\n\u001b[1;32m    211\u001b[0m         \u001b[0;32mif\u001b[0m \u001b[0mmax\u001b[0m\u001b[0;34m(\u001b[0m\u001b[0ma\u001b[0m\u001b[0;34m.\u001b[0m\u001b[0mshape\u001b[0m\u001b[0;34m[\u001b[0m\u001b[0;34m-\u001b[0m\u001b[0;36m2\u001b[0m\u001b[0;34m:\u001b[0m\u001b[0;34m]\u001b[0m\u001b[0;34m)\u001b[0m \u001b[0;34m!=\u001b[0m \u001b[0mmin\u001b[0m\u001b[0;34m(\u001b[0m\u001b[0ma\u001b[0m\u001b[0;34m.\u001b[0m\u001b[0mshape\u001b[0m\u001b[0;34m[\u001b[0m\u001b[0;34m-\u001b[0m\u001b[0;36m2\u001b[0m\u001b[0;34m:\u001b[0m\u001b[0;34m]\u001b[0m\u001b[0;34m)\u001b[0m\u001b[0;34m:\u001b[0m\u001b[0;34m\u001b[0m\u001b[0m\n\u001b[0;32m--> 212\u001b[0;31m             \u001b[0;32mraise\u001b[0m \u001b[0mLinAlgError\u001b[0m\u001b[0;34m(\u001b[0m\u001b[0;34m'Last 2 dimensions of the array must be square'\u001b[0m\u001b[0;34m)\u001b[0m\u001b[0;34m\u001b[0m\u001b[0m\n\u001b[0m\u001b[1;32m    213\u001b[0m \u001b[0;34m\u001b[0m\u001b[0m\n\u001b[1;32m    214\u001b[0m \u001b[0;32mdef\u001b[0m \u001b[0m_assertFinite\u001b[0m\u001b[0;34m(\u001b[0m\u001b[0;34m*\u001b[0m\u001b[0marrays\u001b[0m\u001b[0;34m)\u001b[0m\u001b[0;34m:\u001b[0m\u001b[0;34m\u001b[0m\u001b[0m\n",
      "\u001b[0;31mLinAlgError\u001b[0m: Last 2 dimensions of the array must be square"
     ]
    }
   ],
   "source": [
    "from numpy import matrix, dot\n",
    "from numpy.linalg import  inv\n",
    "\n",
    "A = matrix('1,1 ; 3,1 ; 4,1') \n",
    "y = matrix('1 ; 2 ; 1.5')  \n",
    "\n",
    "beta= dot(inv(A), y) "
   ]
  },
  {
   "cell_type": "markdown",
   "metadata": {},
   "source": [
    "> **NOTE**: What this **error** basically says is that the linear system cannot be solved explicitly. \n"
   ]
  },
  {
   "cell_type": "markdown",
   "metadata": {},
   "source": [
    "---\n",
    "# Least Squares Approximation\n",
    "---\n",
    "\n",
    "**Least Squares** method, allows to find an **approximate solution** that ***automagically minimizes*** the overall **approximation error**\n",
    "+ it is a standard approach in **regression analysis** \n",
    "+ it is useful when dealing with **overdetermined systems** (**constraints** >> **unknowns**)"
   ]
  },
  {
   "cell_type": "markdown",
   "metadata": {},
   "source": [
    "***When a system of equations have no solution***?\n",
    "\n",
    "$$\n",
    "\\begin{align*}\n",
    "\\mathbf{y} \n",
    "&= \\mathbf{A}\\cdot \\boldsymbol{\\beta} \\\\\n",
    "&= \\begin{bmatrix} \\mathbf{A}_{*1} & \\mathbf{A}_{*2} & \\ldots & \\mathbf{A}_{*n} \\end{bmatrix} \\cdot \\begin{bmatrix} \\beta_1 \\\\ \\beta_2 \\\\ \\vdots \\\\ \\beta_n \\end{bmatrix}\\\\\n",
    "&= \\beta_1 \\mathbf{A}_{*1} + \\beta_2 \\mathbf{A}_{*2} + \\ldots + \\beta_n \\mathbf{A}_{*n} \n",
    "\\end{align*}\n",
    "$$"
   ]
  },
  {
   "cell_type": "markdown",
   "metadata": {},
   "source": [
    "Having **no solution** means that there is no **linear combination** for the columns of $\\mathbf{A}_{m\\times n}$, or more properly the **vectors** in $\\mathcal{C}(\\mathbf{A})$, which yields $\\mathbf{y}$\n",
    "+ $\\mathbf{y}$ is not in $\\mathcal{C}(\\mathbf{A})$\n",
    "+ there is no $\\boldsymbol{\\beta}$, or a set of $\\beta_i$'s, that yield $\\mathbf{y}$"
   ]
  },
  {
   "cell_type": "markdown",
   "metadata": {},
   "source": [
    "![alt text](./images/ls-geometric-01.svg \"Column space of Matrix A\")"
   ]
  },
  {
   "cell_type": "markdown",
   "metadata": {},
   "source": [
    "Since there is no $\\boldsymbol{\\beta}$ that provides an **exact solution** for $\\mathbf{y} = \\mathbf{A}\\cdot \\boldsymbol{\\beta}$, we can try to find a  $\\widehat{\\boldsymbol{\\beta}}$ such that  $\\mathbf{y} \\approx \\mathbf{A}\\cdot \\widehat{\\boldsymbol{\\beta}}$, i.e., is ***as close as possible*** to $\\mathbf{y}$\n",
    "\n",
    "+ notice that $ \\mathbf{A}\\cdot \\widehat{\\boldsymbol{\\beta}} \\in \\; \\mathcal{C}(\\mathbf{A})$"
   ]
  },
  {
   "cell_type": "markdown",
   "metadata": {},
   "source": [
    "![alt text](./images/ls-geometric-02.svg \"Column space of Matrix A\")"
   ]
  },
  {
   "cell_type": "markdown",
   "metadata": {},
   "source": [
    "***How do we select*** $\\widehat{\\boldsymbol{\\beta}}$ ?\n",
    "\n",
    "The criterion or strategy to choose $\\widehat{\\boldsymbol{\\beta}}$, is to ***minimize*** the **distance/norm** between the vectors $\\mathbf{y}$ and  $\\mathbf{A}\\cdot \\widehat{\\boldsymbol{\\beta}}$\n",
    "+ **Euclidean distance** is the **ordinary** straight-line distance between two points \n",
    "+ a generalized term for the Euclidean distance is the $\\mathbf{L^2}$ **norm/distance**\n",
    "+ $\\mathbf{L^p}$ spaces are function spaces defined using a natural generalization of the $p$-norm for finite-dimensional **vector spaces**, sometimes called **Lebesgue spaces**. "
   ]
  },
  {
   "cell_type": "markdown",
   "metadata": {},
   "source": [
    "![alt text](./images/vector-addsub.svg \"Column space of Matrix A\")"
   ]
  },
  {
   "cell_type": "markdown",
   "metadata": {},
   "source": [
    "---\n",
    "# Vector Norm\n",
    "---\n",
    "\n",
    "Given an $n$-dimensional vector \n",
    "\n",
    "$$ \\mathbf{x} = \\begin{bmatrix} x_1 \\\\ x_2 \\\\ \\vdots \\\\ x_n \\end{bmatrix}$$\n",
    "\n",
    "the **vector norm** or $\\lVert x\\rVert_{p}$ for $p=1, 2, \\ldots$ is defined as \n",
    "\n",
    "$$\n",
    "\\lVert x\\rVert_{p} = \\left( \\sum_{i}|x_{i}|^p \\right)^{1/p}\n",
    "$$\n",
    "\n",
    "The most commonly encountered vector norm (often called **the norm of a vector**, or **the magnitude** of a vector) is the $L^2$-norm, given by \n",
    "\n",
    "$$\n",
    "\\begin{align*}\n",
    "\\lVert x\\rVert_2 \n",
    "& = \\sqrt{x_1^2+x_2^2+...+x_n^2} \\\\\n",
    "&=  \\left\\| x \\right\\| \\\\\n",
    "&=  | \\; x\\; | \\\\\n",
    "\\end{align*}\n",
    "$$\n",
    "\n",
    "\n",
    "This and other types of **vector norms** are summarized in the following table, together with the value of the norm for the example vector $v=(1,2,3)$\n",
    "\n",
    "\n",
    "name | symbol |value |approx \n",
    ":-|:-|-|-\n",
    "$L^1$-norm | $\\lVert x \\rVert_1$ | $6$ | 6.000\n",
    "$L^2$-norm | $\\lVert x \\rVert_2$ | $14^{1/2} $ | 3.742\n",
    "$L^3$-norm | $\\lVert x \\rVert_3$ | $6^{2/3}$ | 3.302\n",
    "$L^4$-norm | $\\lVert x \\rVert_4$ | $2^{1/4} 7^{1/2}$ | 3.146\n",
    "$L^\\infty$-norm\t| $\\lVert x \\rVert_\\infty$ | $3$ | 3.000\n"
   ]
  },
  {
   "cell_type": "markdown",
   "metadata": {},
   "source": [
    "---\n",
    "\n",
    "Now, once we have defined our measure of **distance** as the **vector norm**, let $\\mathbf{v} = \\mathbf{A}\\cdot \\widehat{\\boldsymbol{\\beta}}$, so we can rewrite the **distance** between $\\mathbf{y}$  and  $\\mathbf{A}\\cdot \\widehat{\\boldsymbol{\\beta}}$ "
   ]
  },
  {
   "cell_type": "markdown",
   "metadata": {},
   "source": [
    "![alt text](./images/ls-geometric-02a.svg \"Column space of Matrix A\")"
   ]
  },
  {
   "cell_type": "markdown",
   "metadata": {},
   "source": [
    "We want to ***minimize*** or to make the **distance/norm** between $\\mathbf{y}$ and $\\mathbf{v}$ the **least value** that it can be\n",
    "\n",
    "$$\n",
    "\\begin{align*}\n",
    "\\left\\| \\mathbf{y} - \\mathbf{A}\\cdot \\widehat{\\boldsymbol{\\beta}}\\right\\|\n",
    "&= \\left\\|\\mathbf{y}-\\mathbf{v}\\right\\|  \\\\\n",
    "&= \\left\\| \\begin{pmatrix} y_1 - v_1 \\\\ \\vdots \\\\ y_m - v_m \\end{pmatrix}\\right\\| \\\\\n",
    "& = \\sqrt{(y_1 - v_1)^2 + \\ldots + (y_m - v_m)^2} \\\\\n",
    "\\end{align*}\n",
    "$$\n",
    "\n",
    "where $v_i$ is the $i$th row of $\\mathbf{v} = \\mathbf{A}\\cdot \\widehat{\\boldsymbol{\\beta}}$."
   ]
  },
  {
   "cell_type": "markdown",
   "metadata": {},
   "source": [
    "Let's write the **squared norm** of these two vectors\n",
    "\n",
    "$$\n",
    "\\begin{align*}\n",
    "\\mathcal{S}\n",
    "&= \\left\\|\\mathbf{y}-\\mathbf{v}\\right\\|^2 \\\\\n",
    "&= (y_1 - v_1)^2 + \\ldots + (y_m - v_m)^2 \\\\\n",
    "&= \\sum_{1}^{m} (y_i - v_i)^2 \n",
    "\\end{align*}\n",
    "$$"
   ]
  },
  {
   "cell_type": "markdown",
   "metadata": {},
   "source": [
    "so, we want to make this value the **least value** that it can be possible, in other words, we want to solve the **optimization problem**\n",
    "\n",
    "$$\n",
    "\\begin{equation*}\n",
    "\\begin{aligned}\n",
    "& \\text{minimize}\n",
    "& & \\mathcal{S(\\widehat{\\boldsymbol{\\beta}})} \\\\\n",
    "& \\text{subject to}\n",
    "& & y_i = f_i(\\mathbf{x}) , \\; i = 1, \\ldots, m.\n",
    "\\end{aligned}\n",
    "\\end{equation*}\n",
    "$$\n",
    "\n",
    "\n",
    "> this is why $\\widehat{\\boldsymbol{\\beta}}$ is called the **least square estimation**, or  **least square solution**, or  **least square approximation** for the equation $\\mathbf{A}\\cdot \\boldsymbol{\\beta} = \\mathbf{y}$ \n",
    "+ similar to **utility maximization**/ **cost minimization**"
   ]
  },
  {
   "cell_type": "markdown",
   "metadata": {},
   "source": [
    "**What is the closest vector** and **how to find it**?\n",
    " \n",
    "From the **approximation theory**,  we know that the *closest vector* $\\mathbf{v}$ in any subspace to a vector $\\mathbf{y}$ that is not in the subspace is goin to be the **projection** of $\\mathbf{y}$ onto the subspace\n"
   ]
  },
  {
   "cell_type": "markdown",
   "metadata": {},
   "source": [
    "$$\n",
    "\\mathbf{proj}_{\\mathbf{v}}\\mathbf{w} \n",
    "= \\frac{\\mathbf{w} \\cdot \\mathbf{v}}\n",
    "{\\left\\| \\mathbf{v} \\right\\| ^2} \\mathbf{v}\n",
    "$$"
   ]
  },
  {
   "cell_type": "markdown",
   "metadata": {},
   "source": [
    "therefore , we are looking for\n",
    "\n",
    "$$\n",
    "\\mathbf{v}=\n",
    "\\mathbf{A}\\cdot \\widehat{\\boldsymbol{\\beta}} =\n",
    "\\mathbf{proj}_{\\mathcal{C}(\\mathbf{A})}\\mathbf{y} \n",
    "$$"
   ]
  },
  {
   "cell_type": "markdown",
   "metadata": {},
   "source": [
    "![alt text](./images/ls-geometric-03.svg \"Column space of Matrix A\")"
   ]
  },
  {
   "cell_type": "markdown",
   "metadata": {},
   "source": [
    "now, if we substract $\\mathbf{y}$ from the last expression\n",
    "\n",
    "$$\n",
    "\\boldsymbol{\\epsilon} \n",
    "= \\mathbf{proj}_{\\mathcal{C}(\\mathbf{A})}\\mathbf{y} - \\mathbf{y} \n",
    "$$"
   ]
  },
  {
   "cell_type": "markdown",
   "metadata": {},
   "source": [
    "![alt text](./images/ls-geometric-04.svg \"Column space of Matrix A\")"
   ]
  },
  {
   "cell_type": "markdown",
   "metadata": {},
   "source": [
    "it can be shown that $\\boldsymbol{\\epsilon} = \\mathbf{A}\\cdot \\widehat{\\boldsymbol{\\beta}}- \\mathbf{y}$ is an element of the **orthogonal complement** of the **column space** of $\\mathbf{A}$\n",
    "\n",
    "$$\n",
    "\\boldsymbol{\\epsilon} \\in \\; \\mathcal{C}(\\mathbf{A})^{\\perp} \n",
    "$$"
   ]
  },
  {
   "cell_type": "markdown",
   "metadata": {},
   "source": [
    "but \n",
    "\n",
    "$$\n",
    "\\mathcal{C}(\\mathbf{A})^{\\perp} = \\mathcal{N}(\\mathbf{A}^T)\n",
    "$$"
   ]
  },
  {
   "cell_type": "markdown",
   "metadata": {},
   "source": [
    "then \n",
    "\n",
    "$$\n",
    "\\boldsymbol{\\epsilon} = \\mathbf{A}\\cdot \\widehat{\\boldsymbol{\\beta}}- \\mathbf{y} \\in \\; \\mathcal{N}(\\mathbf{A}^T)\n",
    "$$"
   ]
  },
  {
   "cell_type": "markdown",
   "metadata": {},
   "source": [
    "![alt text](./images/fundamental-subspaces.svg \"4 Fundamental Subspaces\")"
   ]
  },
  {
   "cell_type": "markdown",
   "metadata": {},
   "source": [
    "therefore, \n",
    "\n",
    "$$ \n",
    "\\begin{align*}\n",
    "\\mathbf{A}^{T}\\boldsymbol{\\epsilon} &= \\mathbf{0} \\\\\n",
    "\\mathbf{A}^{T}(\\mathbf{A}\\;\\widehat{\\boldsymbol{\\beta}}-\\mathbf{y}) \n",
    "&= \\mathbf{0} \\\\\n",
    "\\mathbf{A}^{T} \\mathbf{A}\\;\\widehat{\\boldsymbol{\\beta}}-\\mathbf{A}^{T}\\mathbf{y} \n",
    "&= \\mathbf{0} \\\\\n",
    "\\mathbf{A}^{T}\\mathbf{A}\\;\\widehat{\\boldsymbol{\\beta}}\n",
    "&= \\mathbf{A}^{T}\\mathbf{y} \n",
    "\\end{align*}\n",
    "$$"
   ]
  },
  {
   "cell_type": "markdown",
   "metadata": {},
   "source": [
    "---\n",
    "# Normal equations\n",
    "---\n",
    "+ For an $m\\times n$ system $\\mathbf{A}\\mathbf{x} = \\mathbf{b}$, the associated system of **normal equations** is defined to be the $n\\times n$ system \n",
    "\n",
    "$$\n",
    "\\mathbf{A}^{T}\\mathbf{A}\\;\\hat{\\mathbf{x}} = \\mathbf{A}^{T}\\mathbf{b}\n",
    "$$\n",
    "\n",
    "+ When $\\mathbf{A}\\mathbf{x} = \\mathbf{b}$ is consistent, its solution set agrees with that of $ \\mathbf{A}^{T}\\mathbf{A}\\hat{\\mathbf{x}} = \\mathbf{A}^{T}\\mathbf{b}$. Then, the normal equations provide **least squares solution** to $\\mathbf{A}\\mathbf{x} = \\mathbf{b}$ when is **inconsistent**\n",
    "+ $ \\mathbf{A}^{T}\\mathbf{A}\\hat{\\mathbf{x}} =\n",
    "\\mathbf{A}^{T}\\mathbf{b}$ has a unique solution if and only if\n",
    "$rank (\\mathbf{A}) = n$, in which case the unique solution is\n",
    "\n",
    "$$\n",
    "\\mathbf{x} =  (\\mathbf{A}^{T}\\mathbf{A})^{-1} \\mathbf{A}^{T} \\mathbf{b}\n",
    "$$\n",
    "\n",
    "> The normal equation is that which minimizes the **sum of the square differences** between the left and right sides of the  system $\\mathbf{A}^{T}\\mathbf{A}\\hat{\\mathbf{x}} = \\mathbf{A}^{T}\\mathbf{b}$ \n",
    "\n",
    ">It is called a **normal equation** because:\n",
    "+ $\\mathbf{A}\\cdot \\widehat{\\boldsymbol{\\beta}}- \\mathbf{y}$  is normal to the **range** (column space) of $\\mathbf{A}$\n",
    "+ $\\mathbf{A}^{T}\\cdot \\mathbf{A}$ is a normal matrix. \n"
   ]
  },
  {
   "cell_type": "markdown",
   "metadata": {},
   "source": [
    "![alt text](./images/ls-geometric-05.svg \"Column space of Matrix A\")"
   ]
  },
  {
   "cell_type": "markdown",
   "metadata": {},
   "source": [
    "---\n",
    "# Least squares in Python"
   ]
  },
  {
   "cell_type": "markdown",
   "metadata": {},
   "source": [
    "### Example"
   ]
  },
  {
   "cell_type": "code",
   "execution_count": 4,
   "metadata": {
    "scrolled": true
   },
   "outputs": [
    {
     "name": "stdout",
     "output_type": "stream",
     "text": [
      "[[ 3.5]\n",
      " [ 1.4]]\n"
     ]
    },
    {
     "data": {
      "image/png": "[encoded data removed]",
      "text/plain": [
       "<matplotlib.figure.Figure at 0x7f1e3c1327b8>"
      ]
     },
     "metadata": {},
     "output_type": "display_data"
    }
   ],
   "source": [
    "import numpy as np\n",
    "import matplotlib.pyplot as plt\n",
    "%matplotlib inline    \n",
    "\n",
    "A = np.array([[1, 6],[2, 5],[3, 7],[4, 10]])\n",
    "m = len(A)\n",
    "\n",
    "X = np.array([np.ones(m), A[:, 0]]).T\n",
    "y = np.array(A[:, 1]).reshape(-1, 1)\n",
    "\n",
    "betaHat = np.linalg.solve(X.T.dot(X), X.T.dot(y))\n",
    "print(betaHat)\n",
    "\n",
    "plt.figure(1)\n",
    "xx = np.linspace(0, 5, 2)\n",
    "yy = np.array(betaHat[0] + betaHat[1] * xx)\n",
    "plt.plot(xx, yy.T, color='r',lw = 2, label='Fitted line')\n",
    "plt.scatter(A[:, 0], A[:, 1], marker='d' ,label='Original data')\n",
    "plt.legend()\n",
    "plt.show()"
   ]
  },
  {
   "cell_type": "markdown",
   "metadata": {},
   "source": [
    "In Python, we can use **least-squares-fitting** (**`numpy.linalg.lstsq`**), \n",
    "to find the **exact solution** "
   ]
  },
  {
   "cell_type": "code",
   "execution_count": 5,
   "metadata": {},
   "outputs": [
    {
     "name": "stdout",
     "output_type": "stream",
     "text": [
      "[[ 0.5]] [[ 0.5]] [] 2\n"
     ]
    },
    {
     "data": {
      "image/png": "[encoded data removed]",
      "text/plain": [
       "<matplotlib.figure.Figure at 0x7f1e0bffc518>"
      ]
     },
     "metadata": {},
     "output_type": "display_data"
    }
   ],
   "source": [
    "from numpy import matrix\n",
    "from numpy.linalg import lstsq\n",
    "import matplotlib.pyplot as plt\n",
    "%matplotlib inline    \n",
    "\n",
    "\n",
    "A = matrix('1,1 ; 3,1') \n",
    "y = matrix('1 ; 2 ')  \n",
    "\n",
    "soln = lstsq(A, y)\n",
    "\n",
    "beta1, beta0 = soln[0]  # Least-squares solution\n",
    "e =  soln[1]    # Residuals - squared Euclidean 2-norm\n",
    "rank = soln[2]  # Rank of matrix A\n",
    "\n",
    "print(beta1, beta0, e, rank)\n",
    "\n",
    "x = A[:,0]\n",
    "plt.plot(x, y, 'd', label='Original data', markersize=10)\n",
    "plt.plot(x, x*beta1 + beta0, 'r', label='Fitted line', lw = 2)\n",
    "plt.legend()\n",
    "plt.show()"
   ]
  },
  {
   "cell_type": "markdown",
   "metadata": {},
   "source": [
    "In Python, we can use **least-squares-fitting** (**`numpy.linalg.lstsq`**), \n",
    "to find an **approximate solution** "
   ]
  },
  {
   "cell_type": "code",
   "execution_count": 6,
   "metadata": {},
   "outputs": [
    {
     "name": "stdout",
     "output_type": "stream",
     "text": [
      "[[ 0.21428571]] [[ 0.92857143]] [[ 0.28571429]] 2\n"
     ]
    },
    {
     "data": {
      "image/png": "[encoded data removed]",
      "text/plain": [
       "<matplotlib.figure.Figure at 0x7f1e0bde5080>"
      ]
     },
     "metadata": {},
     "output_type": "display_data"
    }
   ],
   "source": [
    "from numpy import matrix\n",
    "from numpy.linalg import lstsq\n",
    "import matplotlib.pyplot as plt\n",
    "%matplotlib inline    \n",
    "\n",
    "\n",
    "A = matrix('1,1 ; 3,1 ; 4,1') \n",
    "y = matrix('1 ; 2 ; 1.5')  \n",
    "\n",
    "soln = lstsq(A, y)\n",
    "\n",
    "m, c = soln[0]  # Least-squares solution\n",
    "e =  soln[1]    # Sums of residuals\n",
    "rank = soln[2]  # Rank of matrix A\n",
    "print(m, c, e, rank)\n",
    "\n",
    "x = A[:,0]\n",
    "plt.plot(x, y, 'd', label='Original data', markersize=10)\n",
    "plt.plot(x, x*m + c, 'r', label='Fitted line', lw = 2)\n",
    "plt.legend()\n",
    "plt.show()"
   ]
  },
  {
   "cell_type": "markdown",
   "metadata": {},
   "source": []
  }
 ],
 "metadata": {
  "kernelspec": {
   "display_name": "Python 3",
   "language": "python",
   "name": "python3"
  },
  "language_info": {
   "codemirror_mode": {
    "name": "ipython",
    "version": 3
   },
   "file_extension": ".py",
   "mimetype": "text/x-python",
   "name": "python",
   "nbconvert_exporter": "python",
   "pygments_lexer": "ipython3",
   "version": "3.5.2"
  }
 },
 "nbformat": 4,
 "nbformat_minor": 2
}
