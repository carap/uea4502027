{
 "cells": [
  {
   "cell_type": "markdown",
   "metadata": {
    "slideshow": {
     "slide_type": "slide"
    }
   },
   "source": [
    "---\n",
    "# INTRODUCTION TO MACHINE LEARNING\n",
    "---\n",
    "## Linear Regression\n",
    "\n",
    "- Email: <cross224@hotmail.com>\n",
    "- GitHub: [@carap](https://github.com/carap)"
   ]
  },
  {
   "cell_type": "markdown",
   "metadata": {
    "slideshow": {
     "slide_type": "slide"
    }
   },
   "source": [
    "---\n",
    "# MACHINE LEARNING\n",
    "---\n",
    "# General workflow (*pipeline*) \n",
    "Most projects can be thought of as a series of discrete steps:\n",
    "* Data acquisition/loading and preprocessing\n",
    "* Feature creation, selection, and normalization\n",
    "* Model building (multiple models combined) and testing\n",
    "* Reporting/Deployment\n",
    "![alt text](./images/ml-process.svg \"Machine Learning process\")\n",
    "\n",
    "> ***NOTE***: We've firstly worked with **DATA**, but now we have to deal with **MODELS**!"
   ]
  },
  {
   "cell_type": "markdown",
   "metadata": {
    "slideshow": {
     "slide_type": "slide"
    }
   },
   "source": [
    "# Machine learning \n",
    "Broad notion of building **computational structures** that progressively ***learn*** based on **experience**\n",
    "+ In fact, it is not just about building this *structures*, but the ***math, science, engineering, stats, and the computing*** behind these structures for gleaning **information** from historical data sets, in order to process new data sets."
   ]
  },
  {
   "cell_type": "markdown",
   "metadata": {
    "slideshow": {
     "slide_type": "slide"
    }
   },
   "source": [
    "# Machine Learning Modelling\n",
    "\n",
    "A very **interdisciplinary field**...\n",
    "- Cognitive Neuroscience and Artificial Intelligence \n",
    "- Information and Control theory\n",
    "- Stochastic signal processing, and Statistical Learning \n",
    "- Frequentist and Bayesian statistics \n",
    "- Functional analysis (transforms) and Calculus (derivatives)\n",
    "- Linear algebra, Linear programming and Matrix analysis\n",
    "- Optimization, Numerical methods, and Error Analysis\n",
    "- ... a lot of programming!\n"
   ]
  },
  {
   "cell_type": "markdown",
   "metadata": {
    "slideshow": {
     "slide_type": "slide"
    }
   },
   "source": [
    "# Our agenda\n",
    "\n",
    "### ... so far\n",
    "- How we use **Numpy/Pandas library** for *reading* data\n",
    "- How we use **Matplotlib/Seaborn library** for *visualizing* data\n",
    "\n",
    "### onwards...\n",
    "- What is **linear regression**, and how does it work?\n",
    "- How do we **train** and **interpret** a linear regression model?\n",
    "- What are some **evaluation metrics** for regression problems?\n",
    "- How do we choose **which features to include** in my model?"
   ]
  },
  {
   "cell_type": "markdown",
   "metadata": {
    "slideshow": {
     "slide_type": "slide"
    }
   },
   "source": [
    "# Machine learning taxonomy\n",
    "\n",
    "#### Supervised learning (*function aproximation*)\n",
    "- Classification and Regression\n",
    "    + goal: learn $f(x)$ from $\\{(x_i,y_i)\\}_{i=1}^{n}$\n",
    "    + target function: $f(x)$\n",
    "    + learned (estimated) function: $\\hat{f}(x)$\n",
    "    + training sample: $\\{(x_i,y_i)\\}$"
   ]
  },
  {
   "cell_type": "markdown",
   "metadata": {
    "slideshow": {
     "slide_type": "slide"
    }
   },
   "source": [
    "# Machine learning taxonomy\n",
    "\n",
    "#### Unsupervised learning (*data summarization*)\n",
    "- Clustering, **Dimentionality reduction**\n",
    "    + goal: learn $f(x)$ from $\\{x_i\\}_{i=1}^{n}$\n",
    "    + target function: $f(x)$\n",
    "    + learned (estimated) function: $\\hat{f}(x)$\n",
    "    + training sample: $\\{x_i\\}$ "
   ]
  },
  {
   "cell_type": "markdown",
   "metadata": {
    "slideshow": {
     "slide_type": "slide"
    }
   },
   "source": [
    "# Machine learning taxonomy\n",
    "\n",
    "#### Reinforcement learning (*scoring*)\n",
    "+ Learning + **Dynamic control**\n",
    "+ Environment-driven **behavior**\n",
    "+ Cummulative **reward maximization**\n",
    "    + utility theory, decision making, game theory\n",
    "    \n"
   ]
  },
  {
   "cell_type": "markdown",
   "metadata": {
    "slideshow": {
     "slide_type": "slide"
    }
   },
   "source": [
    "# Machine learning taxonomy\n",
    "\n",
    "We can formulate all of these different problems as some form of optimization\n",
    "\n",
    "+ Supervised learning\n",
    "+ Unsupervised learning\n",
    "+ Reinforcement learning\n",
    "\n",
    "> **Bib.Ref.** \n",
    "*Optimization by Vector Space Methods*, **David G. Luenberger**\n",
    "+ Department of Management Science and Engineering, Stanford University.\n"
   ]
  },
  {
   "cell_type": "markdown",
   "metadata": {
    "slideshow": {
     "slide_type": "slide"
    }
   },
   "source": [
    "---\n",
    "# Calculus breviary\n",
    "---"
   ]
  },
  {
   "cell_type": "markdown",
   "metadata": {
    "slideshow": {
     "slide_type": "slide"
    }
   },
   "source": [
    "# Arithmetic fundamentals\n",
    "Do you remember Arithmetic?\n",
    "\n",
    "Following priority rules, get the results of the arithmetic operations below\n",
    "\n",
    "### $Q1$: $ 9 - 3 \\div \\frac{1}{3} + 1$ \n",
    "### $Q2$: $\\frac{ \\sqrt{5^{-2}\\cdot{\\sqrt[3]{5^{-3}\\cdot5^{-3}}} } }{5^{-2}}$"
   ]
  },
  {
   "cell_type": "code",
   "execution_count": 1,
   "metadata": {
    "slideshow": {
     "slide_type": "fragment"
    }
   },
   "outputs": [
    {
     "data": {
      "text/plain": [
       "1.0"
      ]
     },
     "execution_count": 1,
     "metadata": {},
     "output_type": "execute_result"
    }
   ],
   "source": [
    "# Q1\n",
    "9 - (3 * (3**(-1))**(-1)) + 1"
   ]
  },
  {
   "cell_type": "code",
   "execution_count": 2,
   "metadata": {
    "slideshow": {
     "slide_type": "fragment"
    }
   },
   "outputs": [
    {
     "data": {
      "text/plain": [
       "1.0"
      ]
     },
     "execution_count": 2,
     "metadata": {},
     "output_type": "execute_result"
    }
   ],
   "source": [
    "# Q2\n",
    "( (5**(-2)) * (5**(-3)*5**(-3))**(1/3) )**(1/2) / 5**(-2)"
   ]
  },
  {
   "cell_type": "markdown",
   "metadata": {
    "slideshow": {
     "slide_type": "slide"
    }
   },
   "source": [
    "# Calculus fundamentals\n",
    "**Calculus** is very different from arithmetic, algebra and geometry\n",
    "+ **calculus** is less static and more *dynamic*\n",
    "+ it is concerned with *change* and *motion* \n",
    "+ it deals with quantities that *approximate* other quantities.\n"
   ]
  },
  {
   "cell_type": "markdown",
   "metadata": {
    "slideshow": {
     "slide_type": "slide"
    }
   },
   "source": [
    "# Calculus fundamentals\n",
    "The primary building blocks or **abstract objects** that we deal with in calculus are **functions**. \n",
    "\n",
    "There are four possible ways to represent a function:\n",
    "+ verbally (description in words)\n",
    "+ numerically (by a table of values)\n",
    "+ visually (by a graph)\n",
    "+ **algebraically** (by explicit **formulas**)\n",
    "    + a concise way of expressing information **symbolically** about the **relationship** between given quantities."
   ]
  },
  {
   "cell_type": "markdown",
   "metadata": {
    "slideshow": {
     "slide_type": "slide"
    }
   },
   "source": [
    "# What is a function?\n",
    "\n",
    "We may think about functions in many different ways, \n",
    "but there are always three main parts:\n",
    "+ the **input**, the **relationship**, and the **output**\n",
    "\n",
    "An \"*intuitive explanation*\" of function would be as follows:\n",
    "> Def.1. \n",
    "A function is an **association rule** that *relates* **each element** of a **set** with **exactly one element** of another set \n",
    "(possibly the same set).\n",
    "1. \"*each element*\" means that every element in some set $X$ is related to some element in another set $Y$.\n",
    "    + some elements of $Y$ might not be related to at all, which is fine\n",
    "2. ***\"exactly one\"*** means that a function is **single-valued** (* emphatic term*)\n",
    "    + It will not give back ***two or more*** results for the same input \n"
   ]
  },
  {
   "cell_type": "markdown",
   "metadata": {
    "slideshow": {
     "slide_type": "slide"
    }
   },
   "source": [
    "# What is a function?\n",
    "\n",
    "We can think of functions like **machines** that ***associate/map*** inputs to outputs\n",
    "> **NOTE**: The use of the term *machine* is due to historical reasons\n",
    "+ Evolution from fully-mechanical, to electro-mechanical to fully-electronic computers\n",
    "+ ACM (1947) Association for Computer Machinery\n",
    "\n",
    "![Machine learning](images/ml-functionmachine.svg)"
   ]
  },
  {
   "cell_type": "markdown",
   "metadata": {
    "slideshow": {
     "slide_type": "slide"
    }
   },
   "source": [
    "# What is a function?\n",
    "\n",
    "This ***intuitive explanation*** of functions would be completed \n",
    "with a **formal definition**, which relies on the notion of the **Cartesian product of two sets** (*direct product of groups*). \n",
    "\n",
    "> Def. 2.\n",
    "The **Cartesian product** of two sets $X$ and $Y$ \n",
    "is the set of all **ordered pairs**, written $(x, y)$, \n",
    "where $x$ is an element of $X$ and $y$ is an element of $Y$. \n",
    "+ $x$ and the $y$ are called the **components** of the **ordered pair**. \n",
    "+ the ***Cartesian product*** of $X$ and $Y$ is denoted by $X\\times Y$.\n",
    "+ $X\\times Y  = \\{ \\;(x,y)\\; | \\; x\\in X, y\\in Y \\}$\n",
    "+ $G_1\\times G_2 = \\{ \\;(x,y)\\; | \\; x\\in G_1, y\\in G_2 \\}$"
   ]
  },
  {
   "cell_type": "markdown",
   "metadata": {
    "slideshow": {
     "slide_type": "slide"
    }
   },
   "source": [
    "# What is a function?\n",
    "\n",
    "A function $f$ is commonly declared by stating its **domain** $X$ and **codomain** $Y$ using expressions like:\n",
    "\n",
    "+ $f: X\\to Y$    (e.g., $f:\\mathbb R^2\\to\\mathbb R$)\n",
    "+ $ X \\xrightarrow{f} Y$\n",
    "+ $ f\\{X\\}= Y$\n",
    "+ $f(x) = y$\n",
    "\n",
    "When written as $f(x)$, the elements $x\\in X$ are called arguments of $f$ \n",
    "+ for each argument $x\\in X$, the corresponding unique element in the codomain is called the **function value** at $x$, or the **image** of $x$ ***under*** $f$. "
   ]
  },
  {
   "cell_type": "markdown",
   "metadata": {
    "slideshow": {
     "slide_type": "slide"
    }
   },
   "source": [
    "# When two functions are the same? \n",
    "Two functions are the same if they have the **same output for each input**\n",
    "+ Arithmetic method (tabular)\n",
    "+ Algebraic method (solve equations)\n",
    "\n",
    "> This is a fundamental idea for **function approximation**\n",
    "\n",
    "Many problems can be solved *arithmetically* or *algebraically*. \n",
    "+ An algebraic solution is simply a *generalized arithmetic solution*\n"
   ]
  },
  {
   "cell_type": "markdown",
   "metadata": {
    "slideshow": {
     "slide_type": "slide"
    }
   },
   "source": [
    "# When two functions are the same? \n",
    "\n",
    "#### $Q$: Is $f(x) = (1+x)^2$ the same as $g(x) = x^2 + 2x +1$ ?\n"
   ]
  },
  {
   "cell_type": "markdown",
   "metadata": {
    "slideshow": {
     "slide_type": "slide"
    }
   },
   "source": [
    "# When two functions are the same? \n",
    "\n",
    "#### $Q$: Is $f(x) = (1+x)^2$ the same as $g(x) = x^2 + 2x +1$ ?\n",
    ">  ***Algebraically...***\n",
    "$$\n",
    "\\begin{align*}\n",
    " f(x) &= (1+x)^2 \\\\\n",
    "      &= (1+x)(1+x) \\\\\n",
    "      &= 1*(1+x)+ x*(1+x) \\\\ \n",
    "      &= 1*1 + 1*x + x*1 + x*x \\\\ \n",
    "      &= 1^2 + x + x + x^2 \\\\\n",
    "      &= 1 + 2x + x^2 \\\\\n",
    "      &= g(x)\n",
    "\\end{align*}\n",
    "$$\n",
    "\n",
    "> ***Arithmetically...***\n",
    "\n",
    "input value | f(x) | g(x)\n",
    "---|---|---\n",
    "-1 | 0 | 0\n",
    " 0 | 1 | 1\n",
    " 1 | 4 | 4"
   ]
  },
  {
   "cell_type": "markdown",
   "metadata": {
    "slideshow": {
     "slide_type": "slide"
    }
   },
   "source": [
    "# When two functions are the same? \n",
    "\n",
    "#### $Q$: Is $f(x)=\\frac{x^2}{x}$ the same as $g(x) = x $ ?"
   ]
  },
  {
   "cell_type": "markdown",
   "metadata": {
    "slideshow": {
     "slide_type": "slide"
    }
   },
   "source": [
    "# When two functions are the same? \n",
    "\n",
    "#### $Q$: Is $f(x)=\\frac{x^2}{x}$ the same as $g(x) = x $ ?\n",
    ">  ***Algebraically...***\n",
    "$$\n",
    "\\begin{align*}\n",
    " f(x) &= \\frac{x^2}{x}\\\\\n",
    "      &= (x^2)(x^{-1}) \\\\\n",
    "      &= (x^{2-1}) \\\\ \n",
    "      &= (x^{1}) \\\\ \n",
    "      &= x \\\\\n",
    "      &= g(x)\n",
    "\\end{align*}\n",
    "$$\n",
    "\n",
    "\n",
    ">  ***Arithmetically...***\n",
    "\n",
    "input value | f(x) | g(x)\n",
    "---|---|---\n",
    " 2 | 2 | 2\n",
    "-2 | -2 | -2\n",
    " 0 | ? | 0 \n"
   ]
  },
  {
   "cell_type": "markdown",
   "metadata": {
    "slideshow": {
     "slide_type": "slide"
    }
   },
   "source": [
    "---\n",
    "# REGRESSION ANALYSIS\n",
    "---"
   ]
  },
  {
   "cell_type": "markdown",
   "metadata": {
    "slideshow": {
     "slide_type": "slide"
    }
   },
   "source": [
    "# Regression Analysis\n",
    "1. What is Regression Analysis?\n",
    "2. Why do we use Regression Analysis?\n",
    "3. What are the types of Regressions?"
   ]
  },
  {
   "cell_type": "markdown",
   "metadata": {
    "slideshow": {
     "slide_type": "slide"
    }
   },
   "source": [
    "# What is Regression Analysis?\n",
    "**Regression analysis** is a **statistical process** for investigating the **functional relationships** among variables.\n",
    "\n",
    "**Regression analysis** is a form of **modelling technique** which estimates the **conditional expectation** of ***dependent variables*** given the ***independent variables***.\n",
    "+ the *average value* of the *dependent variable* when the *independent variables* are *fixed*\n",
    "\n",
    "$$ \\mathbf{E}[Y\\;|\\; \\mathbf{X}]$$\n",
    "\n",
    "The **estimation target** is a **function** of the independent variables called the **regression function**\n",
    "+ It is highly related to ***fitting curves*** to a given set of points.\n"
   ]
  },
  {
   "cell_type": "markdown",
   "metadata": {
    "slideshow": {
     "slide_type": "slide"
    }
   },
   "source": [
    "# Statistics\n",
    "\n",
    "Statistics is that *branch of mathematics* that analyzes and presents **inferences** from  **data** asssociated to **samples** drawn from the population, instead of the **entire population**. \n",
    "\n",
    "Concepts to understand population's **moments of distribution**:\n",
    "+ Central tendency, dispersion, shape\n",
    "+ Mean (*first moment*),  value around which central clustering occurs\n",
    "+ Variance (*second moment*), degree of variability around the mean\n",
    "+ Skewness (*third moment*), degree of asymmetry of a distribution around its mean\n",
    "+ Kurtosis (*fourth moment*), measure of the *tailedness* of the distribution \n",
    "![Normal distribution](images/normal_pdf.svg)\n",
    "\n"
   ]
  },
  {
   "cell_type": "markdown",
   "metadata": {
    "slideshow": {
     "slide_type": "slide"
    }
   },
   "source": [
    "# Why  use Regression Analysis?\n",
    "\n",
    "Is an important tool for **data analysis** and finding the *cause-effect relationship* between variables \n",
    "+ this technique is used for forecasting, time series modelling \n",
    "\n",
    "There are multiple benefits of using regression analysis. \n",
    "+ It allows to get insights about **significant relationships** between dependent and independent variables\n",
    "+ It is **highly interpretable** and is basis for other methods\n",
    "+ Allows us to **compare** the effects of variables measured on **different scales**"
   ]
  },
  {
   "cell_type": "markdown",
   "metadata": {
    "slideshow": {
     "slide_type": "slide"
    }
   },
   "source": [
    "# What are the types of Regressions?\n",
    "\n",
    "There are various types of regression techniques available to make predictions. \n",
    "+ Linear, Logistic, Polynomial, Stepwise, Ridge, and Lasso\n",
    "\n",
    "These techniques are mostly driven by three metrics \n",
    "1. number of independent variables\n",
    "2. type of dependent variables \n",
    "3. shape of regression line (model)"
   ]
  },
  {
   "cell_type": "markdown",
   "metadata": {
    "slideshow": {
     "slide_type": "slide"
    }
   },
   "source": [
    "---\n",
    "# LINEAR REGRESSION ANALYSIS\n",
    "---"
   ]
  },
  {
   "cell_type": "markdown",
   "metadata": {
    "slideshow": {
     "slide_type": "slide"
    }
   },
   "source": [
    "# Linear Regression Analysis\n",
    "\n",
    "It is one of the most widely known technique, and is usually among the first topics people pick while learning ***predictive modeling***. \n",
    "\n",
    "> Nowadays, due to the flood of **big data** emanating from **businesses processes**, companies are adopting **analytic solutions** to extract **meaningfrom data** and to improve **decision making**.\n",
    "\n"
   ]
  },
  {
   "cell_type": "markdown",
   "metadata": {
    "slideshow": {
     "slide_type": "slide"
    }
   },
   "source": [
    "# Linear Regression Analysis\n",
    "\n",
    "**Business intelligence & analytics** focuses on optimizing CAPEX/OPEX, by applying **statistical and analytical methods** on historical **data**, to understand **business performance**. \n",
    "\n",
    "> Analytical options are *categorized* into three distinct but complementary types: \n",
    "+ **Descriptive**, which answer ***What has happened?*** by using data aggregation and data mining to provide *insight into the past* \n",
    "+ **Predictive**, which answer ***What could happen?*** by using statistical and forecasting models to *understand the future*\n",
    "+ **Prescriptive**, which answer ***What should we do?*** by using optimization and simulation algorithms to *advice on possible outcomes*."
   ]
  },
  {
   "cell_type": "markdown",
   "metadata": {
    "slideshow": {
     "slide_type": "slide"
    }
   },
   "source": [
    "# Linear Regression Analysis\n",
    "\n",
    "**Coursera Specializations**:\n",
    "+ Strategic Business Analytics Specialization (4 courses)\n",
    "+ Business Analytics Specialization (5 courses)\n",
    "+ Advanced Business Analytics Specialization \n",
    "+ Excel to MySQL: Analytic Techniques for Business Specialization "
   ]
  },
  {
   "cell_type": "markdown",
   "metadata": {
    "slideshow": {
     "slide_type": "slide"
    }
   },
   "source": [
    "# Linear Regression Analysis\n",
    "\n",
    "In this technique, the **nature of regression is linear**, i.e., it suppose a ***linear relationship*** between features and response\n",
    "+ **Pros:** fast, highly interpretable, well-understood\n",
    "+ **Cons:** unlikely to produce the best **predictive accuracy** \n",
    "\n"
   ]
  },
  {
   "cell_type": "markdown",
   "metadata": {
    "slideshow": {
     "slide_type": "slide"
    }
   },
   "source": [
    "# Linear Regression Analysis\n",
    "\n",
    "\n",
    "**Accuracy-Precision** trade-off (a.k.a. *bias-variance trade-off*) \n",
    "+ **Accuracy** is how close a measured/predicted value is to the true value (*constant parameter*).\n",
    "+ **Precision** is how close the measured/predicted values are to each other. \n",
    "![alt text](./images/accuracy_precision.svg \"as\")\n"
   ]
  },
  {
   "cell_type": "markdown",
   "metadata": {
    "slideshow": {
     "slide_type": "slide"
    }
   },
   "source": [
    "# Linear Regression\n",
    "In this technique, the **dependent variable** is **continuous**,\n",
    "**independent variable**(s) can be **continuous or discrete** \n",
    "\n",
    "$\n",
    "\\begin{align*}\n",
    "y &= f(\\mathbf{x}) \\\\\n",
    "  &= \\beta_0 + \\beta_{1}x_{1} + \\ldots + \\beta_{k}x_{k} + \\ldots + \\beta_{n}x_{n} \\\\\n",
    "  &= \\sum_{i}^n \\beta_{i}x_{i} \\\\\n",
    "\\end{align*}\n",
    "$\n",
    "\n",
    "What does each term represent?\n",
    "\n",
    "- $y$ is the response\n",
    "- $\\beta_0$ is the intercept\n",
    "- $\\beta_1$ is the coefficient for $x_1$ (the $1$st feature)\n",
    "- $\\beta_k$ is the coefficient for $x_k$ (the $k$th feature)\n",
    "- $\\beta_n$ is the coefficient for $x_n$ (the $n$th feature)"
   ]
  },
  {
   "cell_type": "markdown",
   "metadata": {
    "slideshow": {
     "slide_type": "slide"
    }
   },
   "source": [
    "# Linear Regression\n",
    "\n",
    "$\n",
    "\\begin{align*}\n",
    "y &= \\beta_0 + \\beta_{1}x_{1} + \\ldots + \\beta_{k}x_{k} + \\ldots + \\beta_{n}x_{n} \\\\\n",
    "  &= \\sum_{i}^n \\beta_{i}x_{i} \\\\\n",
    "  &= \\langle  \\boldsymbol{\\beta} , \\mathbf{x} \\rangle \\\\\n",
    "  &= \\boldsymbol{\\beta}^{\\top}\\mathbf{x}\n",
    "\\end{align*}\n",
    "$\n",
    "\n",
    "What does each term represent?\n",
    "\n",
    "- $y$ is the response value\n",
    "- $\\mathbf{x}$ is the feature vector\n",
    "- $\\boldsymbol{\\beta}$ is the vector of coefficients\n",
    "\n",
    "\n"
   ]
  },
  {
   "cell_type": "markdown",
   "metadata": {
    "slideshow": {
     "slide_type": "slide"
    }
   },
   "source": [
    "# Linear Regression\n",
    "\n",
    "$\n",
    "\\begin{align*}\n",
    "y &= f(\\mathbf{x}) \\\\\n",
    "  &= \\beta_0 + \\beta_{1}x_{1} + \\ldots + \\beta_{k}x_{k} + \\ldots + \\beta_{n}x_{n} \\\\\n",
    "  &= \\sum_{i}^n \\beta_{i}x_{i} \\\\\n",
    "\\end{align*}\n",
    "$\n",
    "\n",
    "> **NOTE**: \n",
    "The $\\beta$ values are called the **model coefficients** \n",
    "+ These values are ***learned*** during the ***model fitting*** step using some **optimization criterion**. \n",
    "+ Then, the **fitted model** can be used to make **predictions**!\n",
    "\n",
    "\n",
    "\n"
   ]
  },
  {
   "cell_type": "markdown",
   "metadata": {
    "slideshow": {
     "slide_type": "slide"
    }
   },
   "source": [
    "---\n",
    "# Optimization criterion: error terms\n",
    "---"
   ]
  },
  {
   "cell_type": "markdown",
   "metadata": {
    "slideshow": {
     "slide_type": "slide"
    }
   },
   "source": [
    "# Simple Linear Regression\n",
    "\n",
    "Simple linear regression is an approach for predicting a **quantitative response** using a **single feature** (predictor or input variable). It takes the following form:\n",
    "\n",
    "$y = f(x) = \\beta_0 + \\beta_1x$\n",
    "\n",
    "### What does each term represent?\n",
    "\n",
    "- $y$ is the response (variable we are trying to predict)\n",
    "- $x$ is the feature (variable we are using to predict)\n",
    "- $\\beta_0$ is the **intercept** (the value of $y$ when $x$=0)\n",
    "- $\\beta_1$ is the **slope** (the change in $y$ divided by change in $x$)"
   ]
  },
  {
   "cell_type": "markdown",
   "metadata": {
    "slideshow": {
     "slide_type": "slide"
    }
   },
   "source": [
    "# Learning Model Coefficients\n",
    "\n",
    "How do the **model coefficients** *relate* to the some **optimization criterion**?\n",
    "\n",
    "![Slope-intercept](images/slope_intercept_knob.svg)"
   ]
  },
  {
   "cell_type": "markdown",
   "metadata": {
    "slideshow": {
     "slide_type": "slide"
    }
   },
   "source": [
    "# Learning  Model Coefficients\n",
    "\n",
    "Generally, coefficients are ***learned*** (estimated) using the **least squares criterion**, which means we are looking for a **linear model** (a line),  which ***minimizes*** the **sum of squared residuals** (or *sum of squared errors*):\n",
    "![Estimating coefficients](images/estimating_coefficients.png)\n",
    "\n",
    "> **NOTE**: \n",
    "- The black dots are the **observed values** (given $x$ and $y$).\n",
    "- The blue line is our **least squares line**.\n",
    "- The red lines are the **errors**, i.e., the *distances* between the observed values and the least squares line."
   ]
  },
  {
   "cell_type": "markdown",
   "metadata": {
    "slideshow": {
     "slide_type": "slide"
    }
   },
   "source": [
    "# Error terms\n",
    "\n",
    "In a statistical or mathematical model, an **error term** is a **random variable**, which is created when the model does ***not fully represent*** the actual **relationship** between the independent and dependent variables. \n",
    "+ Essentially means that the model is **not completely accurate**\n",
    "\n",
    "As a result of this ***incomplete relationship***, the error term \n",
    "is a **quantitative measure** of how much our linear model $\\hat{f}$\n",
    "differs from the actual functional relationship $f$. \n",
    "\n",
    "> Error term represents the **margin of error**, referring to the **sum of the deviations** within the regression line\n",
    "+ the **error term** is also known as the **residual** or **disturbance**."
   ]
  },
  {
   "cell_type": "markdown",
   "metadata": {
    "slideshow": {
     "slide_type": "slide"
    }
   },
   "source": [
    "# Model evaluation metrics for regression\n",
    "\n",
    "We need **evaluation metrics** designed for comparing continuous values. \n",
    "\n",
    "Let's create some example numeric predictions, and calculate \n",
    "**three common evaluation metrics** for regression problems:\n",
    "\n",
    "- **Mean Absolute Error (MAE)** is the mean of the absolute value of the errors:\n",
    "$$ \\frac{1}{n}\\sum_{i=1}^n|y_i-\\hat{y}_i| $$\n",
    "\n",
    "- **Mean Squared Error (MSE)**  \"punishes\" larger errors, taking just the mean of the squared errors:\n",
    "$$\\frac{1}{n}\\sum_{i=1}^n(y_i-\\hat{y}_i)^2$$\n",
    "\n",
    "- **Root Mean Squared Error (RMSE)** is interpretable in the \"y\" units, since it is the square root of the mean of the squared errors:\n",
    "$$\\sqrt{\\frac{1}{n} \\sum_{i=1}^n(y_i-\\hat{y}_i)^2}$$\n"
   ]
  },
  {
   "cell_type": "code",
   "execution_count": 3,
   "metadata": {
    "collapsed": true,
    "slideshow": {
     "slide_type": "fragment"
    }
   },
   "outputs": [],
   "source": [
    "import numpy as np\n",
    "# calculate Mean Absolute Error (MAE) \n",
    "y = np.array([100, 50, 30, 20])\n",
    "y_hat = np.array([90, 50, 50, 30])"
   ]
  },
  {
   "cell_type": "markdown",
   "metadata": {},
   "source": [
    "**Mean Absolute Error (MAE)** is the mean of the absolute value of the errors:\n",
    "\n",
    "$$\n",
    "\\begin{align*}\n",
    "\\frac{1}{n}\\sum_{i=1}^n|y_i-\\hat{y}_i|  &= \\frac{1}{n}(|y_1-\\hat{y}_1| + \\ldots + |y_n-\\hat{y}_n|)  \\\\\n",
    "\\end{align*}\n",
    "$$\n"
   ]
  },
  {
   "cell_type": "code",
   "execution_count": 4,
   "metadata": {
    "slideshow": {
     "slide_type": "fragment"
    }
   },
   "outputs": [
    {
     "data": {
      "text/plain": [
       "40"
      ]
     },
     "execution_count": 4,
     "metadata": {},
     "output_type": "execute_result"
    }
   ],
   "source": [
    "# by hand\n",
    "(10 + 0 + 20 + 10) #/4."
   ]
  },
  {
   "cell_type": "code",
   "execution_count": 5,
   "metadata": {},
   "outputs": [
    {
     "data": {
      "text/plain": [
       "40"
      ]
     },
     "execution_count": 5,
     "metadata": {},
     "output_type": "execute_result"
    }
   ],
   "source": [
    "( abs(y[0]-y_hat[0]) +\n",
    "  abs(y[1]-y_hat[1]) +\n",
    "  abs(y[2]-y_hat[2]) + \n",
    "  abs(y[3]-y_hat[3]) ) #/4.    "
   ]
  },
  {
   "cell_type": "code",
   "execution_count": 6,
   "metadata": {},
   "outputs": [
    {
     "data": {
      "text/plain": [
       "[10, 0, 20, 10]"
      ]
     },
     "execution_count": 6,
     "metadata": {},
     "output_type": "execute_result"
    }
   ],
   "source": [
    "assert len(y) == len(y_hat)\n",
    "[ abs(y[i]-y_hat[i])  for  i  in  range(0,len(y)) ]  # list comprehension"
   ]
  },
  {
   "cell_type": "code",
   "execution_count": 7,
   "metadata": {},
   "outputs": [
    {
     "data": {
      "text/plain": [
       "[(100, 90), (50, 50), (30, 50), (20, 30)]"
      ]
     },
     "execution_count": 7,
     "metadata": {},
     "output_type": "execute_result"
    }
   ],
   "source": [
    "list( zip(y,y_hat) )  # 'tuple' does not support item assignment "
   ]
  },
  {
   "cell_type": "code",
   "execution_count": 8,
   "metadata": {},
   "outputs": [
    {
     "data": {
      "text/plain": [
       "[10, 0, 20, 10]"
      ]
     },
     "execution_count": 8,
     "metadata": {},
     "output_type": "execute_result"
    }
   ],
   "source": [
    "[ abs(a[0]-a[1])  for  a  in  zip(y,y_hat)] "
   ]
  },
  {
   "cell_type": "code",
   "execution_count": 9,
   "metadata": {},
   "outputs": [
    {
     "data": {
      "text/plain": [
       "[10, 0, 20, 10]"
      ]
     },
     "execution_count": 9,
     "metadata": {},
     "output_type": "execute_result"
    }
   ],
   "source": [
    "list( map( lambda a:abs(a[0]-a[1]), zip(y,y_hat) ) ) # scatter"
   ]
  },
  {
   "cell_type": "code",
   "execution_count": 10,
   "metadata": {},
   "outputs": [
    {
     "data": {
      "text/plain": [
       "[10, 0, 20, 10]"
      ]
     },
     "execution_count": 10,
     "metadata": {},
     "output_type": "execute_result"
    }
   ],
   "source": [
    "import numpy as np\n",
    "\n",
    "true_value = np.array([100, 50, 30, 20])\n",
    "pred_value = np.array([90, 50, 50, 30])\n",
    "\n",
    "niter = iter(zip(true_value,pred_value))\n",
    "\n",
    "items = np.array([i for i in niter]) # [0][0]\n",
    "\n",
    "[ np.abs(item[0]-item[1]) for item in items ]\n",
    "# np.sum(\n",
    "# [ np.abs(item[0]-item[1]) for item in items] \n",
    "# ) * (1/len(items))\n"
   ]
  },
  {
   "cell_type": "code",
   "execution_count": 11,
   "metadata": {},
   "outputs": [
    {
     "data": {
      "text/plain": [
       "[10, 0, 20, 10]"
      ]
     },
     "execution_count": 11,
     "metadata": {},
     "output_type": "execute_result"
    }
   ],
   "source": [
    "import pandas as pd\n",
    "\n",
    "true_value = np.array([100, 50, 30, 20])\n",
    "pred_value = np.array([90, 50, 50, 30])\n",
    "index = range(1, len(true_value)+1)\n",
    "\n",
    "niter = iter(zip(true_value, pred_value))\n",
    "items = pd.Series(data=[i for i in niter], index= index) # .iloc[0][0] #[0][0]\n",
    "\n",
    "[ pd.Series.abs(item[0]-item[1])  for  item  in  items ]\n",
    "#pd.Series(\n",
    "#  [pd.Series.abs(item[0]-item[1]) for item in items]\n",
    "# ).sum() * (1/len(items))"
   ]
  },
  {
   "cell_type": "code",
   "execution_count": 12,
   "metadata": {
    "slideshow": {
     "slide_type": "fragment"
    }
   },
   "outputs": [
    {
     "name": "stdout",
     "output_type": "stream",
     "text": [
      "150.0\n"
     ]
    }
   ],
   "source": [
    "# calculate MSE by hand\n",
    "print((10**2 + 0**2 + 20**2 + 10**2)/4.)"
   ]
  },
  {
   "cell_type": "code",
   "execution_count": 13,
   "metadata": {
    "slideshow": {
     "slide_type": "fragment"
    }
   },
   "outputs": [
    {
     "name": "stdout",
     "output_type": "stream",
     "text": [
      "12.24744871391589\n"
     ]
    }
   ],
   "source": [
    "# calculate RMSE by hand\n",
    "#print(np.sqrt((10**2 + 0**2 + 20**2 + 10**2)/4.))\n",
    "print(((10**2 + 0**2 + 20**2 + 10**2)/4.)**(1/2))"
   ]
  },
  {
   "cell_type": "markdown",
   "metadata": {
    "slideshow": {
     "slide_type": "slide"
    }
   },
   "source": [
    "# LSE vs MSE:  fitting vs evaluation\n",
    "\n",
    "When we want to **build a model** (linear regression in our case), \n",
    "we would usually use the **Least Square Error (LSE)** method \n",
    "+ **minimizing the total euclidean distance** between a line and the data points \n",
    "> Theoretically the coefficients of this line can be found using calculus but in practice, an algorithm will perform a **gradient descent** which is faster.\n",
    "\n",
    "Once we have your model, we want to **evaluate its performance**; \n",
    "thus, in the case of regression, the **Mean Squared Error (MSE)** \n",
    "is good to evaluate ***how far  in average*** is our model \n",
    "from the actual data points (or test dataset). \n",
    "\n",
    "> **NOTE**: **LSE** is a method that **builds a model**, and **MSE** is a metric that evaluate **model's performance**. "
   ]
  },
  {
   "cell_type": "markdown",
   "metadata": {
    "slideshow": {
     "slide_type": "slide"
    }
   },
   "source": [
    "---\n",
    "# Linear Regression: Example\n",
    "---"
   ]
  },
  {
   "cell_type": "markdown",
   "metadata": {
    "slideshow": {
     "slide_type": "slide"
    }
   },
   "source": [
    "Let's suppose we are given the followign dataset:\n",
    "\n",
    "point | x | y\n",
    "- | - | -\n",
    "$p_1$ | 1 | 1\n",
    "$p_2$ | 3 | 2\n",
    "\n",
    "> In this example, we apply linear regression analysis to this sophisticated dataset, and we show how to interpret the results of our analysis. \n",
    "\n",
    "> We will do the computations manually, since the details are very valuable, in an educational sense.\n"
   ]
  },
  {
   "cell_type": "code",
   "execution_count": 14,
   "metadata": {
    "scrolled": true,
    "slideshow": {
     "slide_type": "slide"
    }
   },
   "outputs": [
    {
     "data": {
      "image/png": "[encoded data removed]",
      "text/plain": [
       "<matplotlib.figure.Figure at 0x7f0b46e574a8>"
      ]
     },
     "metadata": {},
     "output_type": "display_data"
    }
   ],
   "source": [
    "import matplotlib.pyplot as plt\n",
    "%matplotlib inline\n",
    "\n",
    "# (1,1), (3,2)\n",
    "plt.plot([0, 1], [1,1], color='grey', linewidth=2,linestyle='dotted')\n",
    "plt.plot([1,1],[0,1], color='grey', linewidth=2,linestyle='dotted')\n",
    "plt.plot([0, 3], [2,2], color='grey', linewidth=2,linestyle='dotted')\n",
    "plt.plot([3,3],[0,2], color='grey', linewidth=2,linestyle='dotted')\n",
    "plt.plot([1,3],[1,2], 'd', markersize=10)\n",
    "plt.xlabel('x')\n",
    "plt.ylabel('y')\n",
    "plt.show()\n"
   ]
  },
  {
   "cell_type": "markdown",
   "metadata": {
    "slideshow": {
     "slide_type": "slide"
    }
   },
   "source": [
    "In this problem, we are looking for a model that captures the ***functional relationship*** between these two points.\n",
    "\n",
    "Using **linear regression** our *hypothesis* is that such ***functional relationship*** can be **modeled** as a **line**, represented as:\n",
    "$$\n",
    "\\begin{align*}\n",
    "y &= f(x) \\\\\n",
    "  &= \\beta_0 + \\beta_{1}x_{1} \\\\\n",
    "  &= \\beta_0 1 + \\beta_{1}x_{1} \\\\\n",
    "  &= \\beta_0 x_0 + \\beta_{1}x_{1} \\quad  \\text{where $x_0=1$}\\\\\n",
    "  &= \\sum_{i=0}^1 \\beta_{i}x_{i} \\\\\n",
    "\\end{align*}\n",
    "$$\n",
    "\n",
    "> Do you remember $ y = m x + b$ ?... where $m$ is known as the *slope* and $b$ is the *itercept* \n",
    "\n",
    "We can rewrite this expression using **vector notation**, where vectors may be *geometric vectors* or *abstract members* of **vector spaces**.\n",
    "\n",
    "$$\n",
    "\\begin{align*}\n",
    "y &= f(\\mathbf{x};\\boldsymbol{\\beta}) \\\\\n",
    "  &= \\langle  \\boldsymbol{\\beta} , \\mathbf{x} \\rangle \\\\\n",
    "  &= \\boldsymbol{\\beta}\\cdot \\mathbf{x} \\\\ \n",
    "  &= \\boldsymbol{\\beta}^{T}\\mathbf{x} \\\\ \n",
    "  &= [\\beta_0,\\beta_1] \\begin{bmatrix} x_0\\\\x_1 \\end{bmatrix}  \\\\\n",
    "  &= \\beta_0 x_0 + \\beta_{1}x_{1} \\\\\n",
    "\\end{align*}\n",
    "$$\n",
    "\n",
    "In our problem, since both points *live* in the same line (**linear relationship**), they both should satisfy (*obey*) the same linear model. So let's compute the $\\beta$ parameters, which are common for our data points\n",
    "\n",
    "point | $x_0$ | $x_1$| $y$ | Model: $ y = \\beta_{0} x_{0} + \\beta_1 x_1 $\n",
    "-|-|-|-|-\n",
    "$p_1$ |1|1|1| $1 = \\beta_0 (1) + \\beta_{1} (1)$  \n",
    "$p_2$ |1|3|2| $2 = \\beta_0 (1) + \\beta_{1} (3)$ \n",
    "\n",
    "These two equations are actually a ***$2\\times 2$ system of linear algebraic equations***, i.e., ** $2$ equations in $2$ unknowns**,\n",
    "which we have to solve, in order to figure out what is the line that *passes* through the points.\n",
    "\n",
    "$$\n",
    "\\beta_0 (1) + \\beta_{1} (1) = 1 \\\\\n",
    "\\beta_0 (1) + \\beta_{1} (3) = 2 \n",
    "$$ \n",
    "\n",
    "Thus, the system may be written as the matrix equation $\\mathbf{A} \\cdot \\boldsymbol{\\beta} = \\mathbf{y} $, where\n",
    "\n",
    "\n",
    "$\n",
    "\\mathbf{A}= \n",
    "\\begin{bmatrix}\n",
    "1 & 1 \\\\\n",
    "1 & 3 \\\\\n",
    "\\end{bmatrix}\n",
    "$, \n",
    "$\n",
    "\\boldsymbol{\\beta} = \n",
    "\\begin{bmatrix} \n",
    "\\beta_{0}\\\\ \\beta_{1}\n",
    "\\end{bmatrix} \n",
    "$,\n",
    "$\n",
    "\\mathbf{y}= \n",
    "\\begin{bmatrix} \n",
    "1\\\\ 2\n",
    "\\end{bmatrix} \n",
    "$\n",
    "\n",
    "thus, $\\mathbf{A} \\cdot \\boldsymbol{\\beta} = \\mathbf{y}$ becomes\n",
    "\n",
    "$$\n",
    "\\begin{bmatrix}\n",
    "1 & 1 \\\\\n",
    "1 & 3 \\\\\n",
    "\\end{bmatrix}\n",
    "\\cdot\n",
    "\\begin{bmatrix} \n",
    "\\beta_{0}\\\\ \\beta_{1}\n",
    "\\end{bmatrix} \n",
    "=\n",
    "\\begin{bmatrix} \n",
    "1\\\\ 2\n",
    "\\end{bmatrix} \n",
    "$$\n",
    "\n",
    "Can you see the **linear combination** of the **column vectors** of our system ?\n",
    "\n",
    "$$\n",
    "\\begin{bmatrix}\n",
    "1 \\\\ 1 \n",
    "\\end{bmatrix}\n",
    "\\beta_0\n",
    "+\n",
    "\\begin{bmatrix}\n",
    "1 \\\\ 3 \n",
    "\\end{bmatrix}\n",
    "\\beta_1\n",
    "=\n",
    "\\begin{bmatrix} \n",
    "1\\\\ 2\n",
    "\\end{bmatrix} \n",
    "$$\n",
    "\n",
    "\n",
    "\n",
    "\n",
    "Now, we are just coming to the point where we have several **algebraic equations**, so we need **matrices**.\n",
    "> Do you remember $ \\mathbf{A \\cdot x} = \\mathbf{b}$ and how to solve it? ... where $\\mathbf{A}$, $\\mathbf{b}$ are *known*, and $ \\mathbf{x}$ is *unknown*"
   ]
  },
  {
   "cell_type": "markdown",
   "metadata": {},
   "source": [
    "---\n",
    "# Linear Algebra breviary\n",
    "---\n",
    "\n",
    "---\n",
    "# Linear Equations\n",
    "---\n",
    "\n",
    "A **fundamental problem** that commonly arises in all **mathematical sciences** is that of ***analyzing and solving*** $m$ algebraic equations in $n$ unknowns.\n",
    "\n",
    "The **problem** is to determine, if possible, a common solution for a system. In general, we have $m$ ***linear algebraic equations*** in $n$ unknowns\n",
    "\n",
    "$$\n",
    "a_{1,1} x_1 + a_{1,2} x_2 + \\ldots + a_{1,n} x_n = b_1 ,\\\\\n",
    "a_{2,1} x_1 + a_{2,2} x_2 + \\ldots + a_{2,n} x_n = b_2 ,\\\\\n",
    "\\vdots \\\\\n",
    "a_{m,1} x_1 + a_{m,2} x_2 + \\ldots + a_{m,n} x_n = b_m \n",
    "$$\n",
    "\n",
    "where the $x_i$'s are the *unknown variables* and the $a_{ij}$'s, called the ***coefficients***, and the $b_i$'s, the ***right-hand side of the system***, are *known constants*.\n",
    "\n",
    "---\n",
    "The system may be rewritten as $\\mathbf{A \\cdot x} = \\mathbf{b}$, where\n",
    "\n",
    "$\n",
    "% matrix, pmatrix, bmatrix, Bmatrix, vmatrix, Vmatrix\n",
    "\\mathbf{A}= \n",
    " \\begin{pmatrix} %smallmatrix\n",
    "  a_{1,1} & a_{1,2} & \\cdots & a_{1,n} \\\\\n",
    "  a_{2,1} & a_{2,2} & \\cdots & a_{2,n} \\\\\n",
    "  \\vdots  & \\vdots  & \\ddots & \\vdots  \\\\\n",
    "  a_{m,1} & a_{m,2} & \\cdots & a_{m,n} \n",
    " \\end{pmatrix}\n",
    "$,\n",
    "$\n",
    "\\mathbf{x}= \n",
    " \\begin{pmatrix} %smallmatrix\n",
    "  x_{1}\\\\ x_{2}\\\\ \\vdots\\\\ x_{n} \n",
    " \\end{pmatrix} \n",
    " $,\n",
    " $\n",
    "\\mathbf{b}= \n",
    " \\begin{pmatrix} %smallmatrix\n",
    "  b_{1}\\\\ b_{2}\\\\ \\vdots\\\\ b_{m} \n",
    " \\end{pmatrix}\n",
    "$\n",
    "\n",
    "thus, $\\mathbf{A \\cdot x} = \\mathbf{b}$ becomes\n",
    "\n",
    "\n",
    "$$\n",
    "\\begin{pmatrix} %smallmatrix\n",
    "a_{1,1} & a_{1,2} & \\cdots & a_{1,n} \\\\\n",
    "a_{2,1} & a_{2,2} & \\cdots & a_{2,n} \\\\\n",
    "\\vdots  & \\vdots  & \\ddots & \\vdots  \\\\\n",
    "a_{m,1} & a_{m,2} & \\cdots & a_{m,n} \n",
    "\\end{pmatrix}\n",
    "\\cdot\n",
    "\\begin{pmatrix} %smallmatrix\n",
    "x_{1}\\\\ x_{2}\\\\ \\vdots\\\\ x_{n} \n",
    "\\end{pmatrix} \n",
    "= \n",
    "\\begin{pmatrix} %smallmatrix\n",
    "b_{1}\\\\ b_{2}\\\\ \\vdots\\\\ b_{m} \n",
    "\\end{pmatrix}\n",
    "$$\n",
    "\n",
    "\n",
    "where $\\mathbf{A}$ is called the **coefficient matrix** for the system.\n",
    "\n",
    "\n",
    "---\n",
    "# Solving linear equations systems\n",
    "There are exactly *three possibilities* for the ***set of solutions*** for any such system:\n",
    "+ **UNIQUE SOLUTION**. There is one and only one set of values for the $x_i$'s that satisfies all equations simultaneously.\n",
    "+ **INFINITELY MANY SOLUTIONS**. There are infinitely many different sets of values for the $x_i$'s that satisfy all equations simultaneously. If a system has more than one solution, then it has infinitely many solutions. \n",
    "+ **NO SOLUTION**. There is no set of values for the $x_i$'s that satisfies all equations simultaneously, i.e., the solution set is empty.\n",
    "\n",
    "> An important part of the job in dealing with **linear systems** is to ***verify*** which one of these three possibilities is true. The other important part of the task is to ***compute*** the **solution**.\n",
    "\n",
    "\n",
    "\n",
    "# Solving linear equations systems\n",
    "**Gaussian elimination** (a.k.a.  *row reduction*) is an algorithm for successively *eliminating* **unknowns**, eventually *arriving* at a system that is *easily solvable* \n",
    "+ it systematically ***transforms*** one system into another simpler system\n",
    "+ two systems are called **equivalent** if they possess equal solution sets\n",
    "\n",
    "The elimination process relies on **three simple operations**. \n",
    "\n",
    "Lets write the system \n",
    "$$\n",
    "a_{1,1} x_1 + a_{1,2} x_2 + \\ldots + a_{1,n} x_n = b_1 ,\\\\\n",
    "a_{2,1} x_1 + a_{2,2} x_2 + \\ldots + a_{2,n} x_n = b_2 ,\\\\\n",
    "\\vdots \\\\\n",
    "a_{m,1} x_1 + a_{m,2} x_2 + \\ldots + a_{m,n} x_n = b_m \n",
    "$$\n",
    "\n",
    "as\n",
    "$$\n",
    "\\mathcal{S} = \n",
    "\\begin{Bmatrix} %smallmatrix\n",
    "E_{1}\\\\ E_{2}\\\\ \\vdots\\\\ E_{m} \n",
    "\\end{Bmatrix} \n",
    "$$\n",
    "\n",
    "where the $k$th equation is given by $E_k:  a_{k,1}x_1 + a_{k,2}x_2 + \\ldots + a_{k,n}x_n = b_k$\n",
    "\n",
    "For such a linear system $\\mathcal{S}$, each of the following three **elementary operations** results in an equivalent system $\\mathcal{S'}$:\n",
    "\n",
    "1\\. ***Interchange*** the $i$th and $j$th equations. That is, if\n",
    "\n",
    "$\n",
    "\\begin{align*}\n",
    "\\mathcal{S} &= \n",
    "\\begin{Bmatrix} %smallmatrix\n",
    "E_{1}\\\\ \\vdots \\\\ E_{i} \\\\ \\vdots \\\\ E_{j} \\\\ \\vdots \\\\ E_{m} \n",
    "\\end{Bmatrix} \n",
    "\\quad  \\text{then}\n",
    "\\end{align*}\n",
    "$\n",
    "$\n",
    "\\mathcal{S'} = \n",
    "\\begin{Bmatrix} %smallmatrix\n",
    "E_{1}\\\\ \\vdots \\\\ E_{j} \\\\ \\vdots \\\\ E_{i} \\\\ \\vdots \\\\ E_{m} \n",
    "\\end{Bmatrix} \n",
    "$\n",
    "\n",
    "2\\. ***Replace*** the $i$th equation by a nonzero scalar multiple of itself. That is, if\n",
    "\n",
    "$\n",
    "\\begin{align*}\n",
    "\\mathcal{S} &= \n",
    "\\begin{Bmatrix} %smallmatrix\n",
    "E_{1}\\\\ \\vdots \\\\ E_{i} \\\\  \\vdots \\\\ E_{m} \n",
    "\\end{Bmatrix} \n",
    "\\quad  \\text{then}\n",
    "\\end{align*}\n",
    "$\n",
    "$\n",
    "\\mathcal{S'} = \n",
    "\\begin{Bmatrix} %smallmatrix\n",
    "E_{1}\\\\ \\vdots \\\\ \\alpha E_{i} \\\\ \\vdots \\\\ E_{m} \n",
    "\\end{Bmatrix} \n",
    "$\n",
    "\n",
    "3\\. ***Replace*** the $i$th equation by a combination of itself plus a nonzero scalar multiple of the $j$th equation. That is, if\n",
    "\n",
    "$\n",
    "\\begin{align*}\n",
    "\\mathcal{S} &= \n",
    "\\begin{Bmatrix} %smallmatrix\n",
    "E_{1}\\\\ \\vdots \\\\ E_{i} \\\\ \\vdots \\\\ E_{j} \\\\ \\vdots \\\\ E_{m} \n",
    "\\end{Bmatrix} \n",
    "\\quad  \\text{then}\n",
    "\\end{align*}\n",
    "$\n",
    "$\n",
    "\\mathcal{S'} = \n",
    "\\begin{Bmatrix} %smallmatrix\n",
    "E_{1}\\\\ \\vdots \\\\ E_{i} + \\alpha E_{j}\\\\ \\vdots \\\\ E_{j} \\\\ \\vdots \\\\ E_{m} \n",
    "\\end{Bmatrix} \n",
    "$\n",
    "\n",
    "> **NOTE**: Providing explanations for why each of these operations cannot change the solution set is left up to you.\n"
   ]
  },
  {
   "cell_type": "markdown",
   "metadata": {},
   "source": [
    "## Going back from our linear algebra breviary... \n",
    "\n",
    "The matrix equation we are interested in is $\\mathbf{A} \\cdot \\boldsymbol{\\beta} = \\mathbf{y} $, and the system we are dealing with is\n",
    "\n",
    "$$\n",
    "\\begin{bmatrix}\n",
    "1 & 1 \\\\\n",
    "1 & 3 \\\\\n",
    "\\end{bmatrix}\n",
    "\\cdot\n",
    "\\begin{bmatrix} \n",
    "\\beta_{0}\\\\ \\beta_{1}\n",
    "\\end{bmatrix} \n",
    "=\n",
    "\\begin{bmatrix} \n",
    "1\\\\ 2\n",
    "\\end{bmatrix} \n",
    "$$\n",
    "\n",
    "In order to reduce this system we need to apply the **elementary operations**. \n",
    "\n",
    "However, when manipulating the system, there is no reason to write down the $\\beta_i$'s symbols and \"$=$\" at *each step* since we are only manipulating the known values; therefore, such symbols are discarded.\n",
    "\n",
    "\n",
    "We can write the **coefficient matrix** along with the numbers from the **right-hand side** of the system, as en entire array called the ***augmented coefficient matrix***. \n",
    "\n",
    "$$\n",
    "\\mathcal{S}=  [ \\mathbf{A} \\; | \\; \\mathbf{y} ]\n",
    "$$\n",
    "\n",
    "where the line emphasizes where the \"$=$\" appeared.\n",
    "\n",
    "$\n",
    "\\mathcal{S}= \n",
    "\\begin{bmatrix}\n",
    "\\begin{array}{cc|c}\n",
    "1 & 1 & 1\\\\\n",
    "1 & 3 & 2\\\\\n",
    "\\end{array}\n",
    "\\end{bmatrix}\n",
    "$\n",
    "\n",
    "\n",
    "$\n",
    "\\mathcal{S'}= \n",
    "\\begin{bmatrix}\n",
    "\\begin{array}{cc|c}\n",
    "1 & 1 & 1\\\\\n",
    "1 & 3 & 2\\\\\n",
    "\\end{array}\n",
    "\\end{bmatrix}\n",
    "$\n",
    "$\\xrightarrow{E_2 \\leftarrow E_2 - E_1 }$\n",
    "$\n",
    "\\begin{bmatrix}\n",
    "\\begin{array}{cc|c}\n",
    "1 & 1 & 1\\\\\n",
    "0 & 2 & 1\\\\\n",
    "\\end{array}\n",
    "\\end{bmatrix}\n",
    "$\n",
    "\n",
    "$\n",
    "\\mathcal{S'}= \n",
    "\\begin{bmatrix}\n",
    "\\begin{array}{cc|c}\n",
    "1 & 1 & 1\\\\\n",
    "0 & 2 & 1\\\\\n",
    "\\end{array}\n",
    "\\end{bmatrix}\n",
    "$\n",
    "$\\xrightarrow{E_2 \\leftarrow \\alpha E_2}$\n",
    "$\n",
    "\\begin{bmatrix}\n",
    "\\begin{array}{cc|c}\n",
    "1 & 1 & 1\\\\\n",
    "0 & 1 & \\frac{1}{2}\\\\\n",
    "\\end{array}\n",
    "\\end{bmatrix}\n",
    "$\n",
    "\n",
    "$\n",
    "\\mathcal{S'}= \n",
    "\\begin{bmatrix}\n",
    "\\begin{array}{cc|c}\n",
    "1 & 1 & 1\\\\\n",
    "0 & 1 & \\frac{1}{2}\\\\\n",
    "\\end{array}\n",
    "\\end{bmatrix}\n",
    "$\n",
    "$\\xrightarrow{E_1 \\leftarrow E_1 - E_2}$\n",
    "$\n",
    "\\begin{bmatrix}\n",
    "\\begin{array}{cc|c}\n",
    "1 & 0 & \\frac{1}{2}\\\\\n",
    "0 & 1 & \\frac{1}{2}\\\\\n",
    "\\end{array}\n",
    "\\end{bmatrix}\n",
    "$\n",
    "\n",
    "\n",
    "\n",
    "\n",
    "The final array represents the system\n",
    "\n",
    "$$\n",
    "\\begin{bmatrix} %smallmatrix\n",
    "1 & 0  \\\\\n",
    "0 & 1  \n",
    "\\end{bmatrix}\n",
    "\\cdot\n",
    "\\begin{bmatrix} \n",
    "\\beta_{0}\\\\ \\beta_{1}\n",
    "\\end{bmatrix} \n",
    "=\n",
    "\\begin{bmatrix} \n",
    "\\frac{1}{2}\\\\ \\frac{1}{2} \n",
    "\\end{bmatrix} \n",
    "$$\n",
    "\n",
    "\n",
    "where $ \\begin{bmatrix} 1 & 0\\\\ 0 & 1  \\end{bmatrix}$ is know as the $2\\times2$ **identity matrix**, which satisfies\n",
    "\n",
    "1. $ \\mathbf{I}_m \\cdot \\mathbf{A} = \\mathbf{A} \\cdot \\mathbf{I}_n =  \\mathbf{A} $\n",
    "2. $ \\mathbf{I} \\cdot \\mathbf{I}^{-1} = \\mathbf{I}^{-1} \\cdot \\mathbf{I} =\n",
    "\\mathbf{I}\n",
    "$\n",
    "\n",
    "So, our system becomes \n",
    "\n",
    "$$\n",
    "\\mathbf{I} \\cdot \\boldsymbol{\\beta} = \\boldsymbol{\\beta} =\n",
    "\\begin{bmatrix} \n",
    "\\frac{1}{2}\\\\ \\frac{1}{2} \n",
    "\\end{bmatrix} \n",
    "$$\n",
    "\n",
    "\n",
    "What we actually just did, \n",
    "was to solve the matrix equation $\\mathbf{A \\cdot x} = \\mathbf{b}$,\n",
    "by finding:\n",
    "\n",
    "$$ \\mathbf{x} = \\mathbf{A}^{-1} \\cdot \\mathbf{b} $$\n",
    "\n",
    "Finally,  our initial *hypothesis* was that the ***functional relationship*** between our data points could  be **modeled** as a **line**, represented as:\n",
    "\n",
    "$$\n",
    "\\begin{align*}\n",
    "y &= f(x) \\\\\n",
    "  &= \\beta_0 x_0 + \\beta_{1}x_{1} \\quad  \\text{where $x_0=1$}\\\\\n",
    "\\end{align*}\n",
    "$$\n",
    "\n",
    "And now, we know that \n",
    "$\n",
    "\\boldsymbol{\\beta} =\n",
    "\\begin{bmatrix} \n",
    "\\frac{1}{2}\\\\ \\frac{1}{2} \n",
    "\\end{bmatrix} \n",
    "$\n",
    "\n",
    "Therefore, \n",
    "\n",
    "$$\n",
    "\\begin{align*}\n",
    "y &= f(x) \\\\\n",
    "  &= \\frac{1}{2}  x_0 + \\frac{1}{2} x_{1} \\quad  \\text{where $x_0=1$}\\\\\n",
    "  \\therefore \\\\\n",
    "y &= \\frac{1}{2} + \\frac{1}{2} x_{1}\n",
    "\\end{align*}\n",
    "$$\n",
    "\n",
    "\n",
    "\n",
    "point | $x_0$ | $x_1$| $y$ | Fitted model: $ y = \\frac{1}{2} + \\frac{1}{2} x_{1}$\n",
    "-|-|-|-|-\n",
    "$p_1$ |1|1|1| $1 = \\frac{1}{2} (1) + \\frac{1}{2} (1)$  \n",
    "$p_2$ |1|3|2| $2 = \\frac{1}{2} (1) + \\frac{1}{2} (3)$ \n",
    "\n"
   ]
  },
  {
   "cell_type": "markdown",
   "metadata": {},
   "source": [
    "# Linear Regression using Python"
   ]
  },
  {
   "cell_type": "code",
   "execution_count": 15,
   "metadata": {},
   "outputs": [
    {
     "data": {
      "text/plain": [
       "matrix([[ 0.5],\n",
       "        [ 0.5]])"
      ]
     },
     "execution_count": 15,
     "metadata": {},
     "output_type": "execute_result"
    }
   ],
   "source": [
    "#import numpy as np\n",
    "from numpy import array, matrix, transpose, sqrt, dot\n",
    "from numpy.linalg import  inv, norm, det, eig, svd \n",
    "\n",
    "v1 = matrix('1, 1; 1 ,3') #v1 = array([[1, 1], [1 ,3]]) \n",
    "v2 = matrix('1; 2')       #v2 = array([[6], [1]])\n",
    "\n",
    "dot(inv(v1), v2)\n"
   ]
  },
  {
   "cell_type": "markdown",
   "metadata": {},
   "source": [
    "### Interpreting model coefficients\n",
    "$$y = f(x) = 0.5 + 0.5 x$$\n",
    "\n",
    "How do we interpret the **x coefficient** (0.5)?\n",
    "- a **unit** increase in $x$ is **associated** with a **half unit** **increase** in $y$.\n",
    "- e.g., **an additional** $\\$1,000$ spent on $x$-type ads is associated with an **increase** in sales of 500 items.\n",
    "\n",
    "Important notes:\n",
    "- This is a statement of **association**, not **causation**."
   ]
  },
  {
   "cell_type": "code",
   "execution_count": 16,
   "metadata": {},
   "outputs": [
    {
     "data": {
      "image/png": "[encoded data removed]",
      "text/plain": [
       "<matplotlib.figure.Figure at 0x7f0b4487a160>"
      ]
     },
     "metadata": {},
     "output_type": "display_data"
    }
   ],
   "source": [
    "import numpy as np\n",
    "import matplotlib.pyplot as plt\n",
    "%matplotlib inline\n",
    "\n",
    "# (1,1), (3,2)\n",
    "x = np.array([1,3])\n",
    "y = np.array([1,2])\n",
    "plt.plot(x,y, markersize=10)\n",
    "plt.plot([0, 1], [1,1], color='grey', linewidth=1,linestyle='dashed')\n",
    "plt.plot([1,1],[0,1], color='grey', linewidth=1,linestyle='dashed')\n",
    "plt.plot([0, 3], [2,2], color='grey', linewidth=1,linestyle='dashed')\n",
    "plt.plot([3,3],[0,2], color='grey', linewidth=1,linestyle='dashed')\n",
    "plt.plot([0, 2], [1.5,1.5], color='grey', linewidth=3,linestyle='dashdot')\n",
    "plt.plot([2,2],[0,1.5], color='grey', linewidth=3,linestyle='dashdot')\n",
    "\n",
    "plt.xlabel('x')\n",
    "plt.ylabel('y')\n",
    "plt.show()"
   ]
  },
  {
   "cell_type": "markdown",
   "metadata": {},
   "source": [
    "# What's next?\n",
    "\n",
    "### Approximation theory (*review*)\n",
    "\n",
    "What if a system of equations have no solution?\n",
    "\n",
    "$$ \n",
    "\\mathbf{A} \\cdot \\mathbf{x} = \\mathbf{b}\n",
    "$$\n",
    "\n",
    "\n",
    "**Approximation theory** is concerned with *how functions can best be approximated with simpler functions*.\n",
    "+ the matrix equation we are interested in\n",
    "$$ \n",
    "\\mathbf{A}^{T}\\cdot \\mathbf{A} \\cdot \\hat{\\mathbf{x}} =\n",
    "\\mathbf{A}^{T} \\cdot \\mathbf{b} \n",
    "$$\n",
    "+ A closely related topic is the approximation of functions by **generalized Fourier series** \n",
    "    + approximations based on series of **orthogonal vectors (*polynomials*)**\n",
    "    + **Fourier** and **Karhunen–Loeve** transforms\n",
    "\n",
    "### Case study: Advertising Data\n",
    "\n",
    "We'll take a look at some data, ask some questions about that data, and then use linear regression to answer those questions!\n",
    "\n",
    "*Adapted from Chapter 3 of [An Introduction to Statistical Learning](http://www-bcf.usc.edu/~gareth/ISL/)*"
   ]
  },
  {
   "cell_type": "markdown",
   "metadata": {},
   "source": [
    "## Comments or Questions?\n",
    "- Email: <cross224@hotmail.com>\n",
    "- GitHub: [@carap](https://github.com/carap)"
   ]
  }
 ],
 "metadata": {
  "kernelspec": {
   "display_name": "Python 3",
   "language": "python",
   "name": "python3"
  },
  "language_info": {
   "codemirror_mode": {
    "name": "ipython",
    "version": 3
   },
   "file_extension": ".py",
   "mimetype": "text/x-python",
   "name": "python",
   "nbconvert_exporter": "python",
   "pygments_lexer": "ipython3",
   "version": "3.5.2"
  }
 },
 "nbformat": 4,
 "nbformat_minor": 1
}
