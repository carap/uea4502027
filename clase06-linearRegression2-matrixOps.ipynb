{
 "cells": [
  {
   "cell_type": "markdown",
   "metadata": {},
   "source": [
    "---\n",
    "# Simple Linear Regression\n",
    "---\n",
    "\n",
    "**Linear models** are one of the most widely used models and form the *foundation* of many **advanced nonlinear techniques** such as **Support Vector Machines**, **Neural networks** and **Adaptive filters**. \n",
    "\n",
    "\n",
    "## *Last time*...\n",
    "\n",
    "Given two points **$p1$** and **$p2$**, we apply **linear regression** analysis for **fitting simple one-feature model** (a line) through those points, thus, our hypothesis function is: \n",
    "\n",
    "$$y = f(x) = \\beta_0 x_0 + \\beta_1 x_1, \\quad \\text{where} \\; x_0 = 1$$\n",
    "\n",
    "\n",
    "Then, we built the linear system \n",
    "\n",
    "$$\n",
    "\\begin{bmatrix} %smallmatrix\n",
    "x_{0,1} & x_{1,1} \\\\\n",
    "x_{0,2} & x_{1,2} \\\\\n",
    "\\end{bmatrix}\n",
    "\\cdot\n",
    "\\begin{bmatrix} %smallmatrix\n",
    "\\beta_{0}\\\\ \\beta_{1}\\\\\n",
    "\\end{bmatrix} \n",
    "= \n",
    "\\begin{bmatrix} %smallmatrix\n",
    "y_{1}\\\\ y_{2}\\\\\n",
    "\\end{bmatrix} \n",
    "$$\n",
    "\n",
    "since that system had the form $\\mathbf{A \\cdot x} = \\mathbf{b}$, then, we used the **elementary row operations** on the augmented system\n",
    "\n",
    "$$\n",
    "\\mathcal{S}= \n",
    "\\begin{bmatrix}\n",
    "\\begin{array}{cc|c}\n",
    "x_{0,1} & x_{1,1} & y_{1}\\\\\n",
    "x_{0,2} & x_{1,2} & y_{2}\\\\\n",
    "\\end{array}\n",
    "\\end{bmatrix} \n",
    "$$\n",
    "\n",
    "By **row reducing** the system $\\mathcal{S}$, we solved the matrix equation\n",
    "\n",
    "$$ \\mathbf{x} = \\mathbf{A}^{-1} \\cdot \\mathbf{b} $$\n",
    "\n",
    "Once we found the $\\mathbf{\\beta}$ values, we were able to interpret the proposed model\n",
    "+ we established some **association statements** (***not causation***) between the **dependent/response variable** and the **independent/explanatory variable**.\n",
    "\n"
   ]
  },
  {
   "cell_type": "markdown",
   "metadata": {},
   "source": [
    "---\n",
    "# Linear Algebra breviary\n",
    "---"
   ]
  },
  {
   "cell_type": "markdown",
   "metadata": {},
   "source": [
    "# Elementary Matrix Operations\n",
    "A common theme in mathematics is how to break/decompose **complicated objects** into more **elementary components** \n",
    "+ essence of **approximation theory** and **optimization** \n",
    "+ Fortran (* **For**mula **Tran**slation*) programming (IBM 50's)\n",
    "+ Fortran Standard parallel programming features (Intel 2010's)\n",
    "+ e.g., *factoring* large polynomials into products of smaller polynomials\n",
    "\n",
    "**Elementary matrix operations** play an important role in many **matrix algebra applications** \n",
    "+ finding the inverse of a matrix  \n",
    "+ solving simultaneous linear equations\n",
    "+ least squares\n",
    "\n",
    "There are **three types** of elementary matrix operations:\n",
    "+ **Type I** is interchanging rows (columns) $i$ and $j$\n",
    "+ **Type II** is multiplying row (column) $i$ by $\\alpha \\neq 0$\n",
    "+ **Type III** is adding a multiple of row (column) $i$ to row (column) $j$.\n",
    "\n",
    "An **elementary matrix** of Type I, II, or III is created by performing an **elementary operation** of Type I, II, or III to an identity matrix\n",
    "+ when **elementary operations** are performed on **rows**, they are called **elementary row operations**\n",
    "+ when **elementary operations** are performed on **columns**, they are called **elementary column operations**."
   ]
  },
  {
   "cell_type": "markdown",
   "metadata": {},
   "source": [
    "# Elementary Operators\n",
    "Each type of **elementary operation** may be performed by **matrix multiplication**, using square matrices called **elementary operators**.\n",
    "\n",
    "+ **matrix product**, the *multiplication of two matrices*, is **associative** but it is **not commutative** \n",
    "+ ***swapping*** in which side the matrix is when calculating the product will result in an entirely different result. \n"
   ]
  },
  {
   "cell_type": "markdown",
   "metadata": {},
   "source": [
    "---\n",
    "# Exercise\n",
    "---\n",
    "\n",
    "Given \n",
    "\n",
    "$$\n",
    "\\mathbf{A}=\n",
    "\\begin{bmatrix}\n",
    "\\begin{array}{cc}\n",
    "1 & 3 \\\\\n",
    "2 & 4 \\\\\n",
    "\\end{array}\n",
    "\\end{bmatrix}\n",
    "$$\n",
    "\n",
    "and \n",
    "\n",
    "$\n",
    "\\mathbf{E}_1=\n",
    "\\begin{bmatrix}\n",
    "\\begin{array}{cc}\n",
    "1 & 0 \\\\\n",
    "0 & 0 \\\\\n",
    "\\end{array}\n",
    "\\end{bmatrix}\n",
    "$,\n",
    "$\n",
    "\\mathbf{E}_2=\n",
    "\\begin{bmatrix}\n",
    "\\begin{array}{cc}\n",
    "0 & 0 \\\\\n",
    "0 & 1 \\\\\n",
    "\\end{array}\n",
    "\\end{bmatrix}\n",
    "$,\n",
    "$\n",
    "\\mathbf{E}_3=\n",
    "\\begin{bmatrix}\n",
    "\\begin{array}{cc}\n",
    "0 & 1 \\\\\n",
    "0 & 0 \\\\\n",
    "\\end{array}\n",
    "\\end{bmatrix}\n",
    "$,\n",
    "$\n",
    "\\mathbf{E}_4=\n",
    "\\begin{bmatrix}\n",
    "\\begin{array}{cc}\n",
    "0 & 0 \\\\\n",
    "1 & 0 \\\\\n",
    "\\end{array}\n",
    "\\end{bmatrix}\n",
    "$"
   ]
  },
  {
   "cell_type": "markdown",
   "metadata": {},
   "source": [
    "Obtain the results of the following **pos-multiplications** (*right-side products*):\n",
    "1. $\\mathbf{A}\\cdot\\mathbf{E}_1 $\n",
    "2. $\\mathbf{A}\\cdot\\mathbf{E}_2 $\n",
    "3. $\\mathbf{A}\\cdot\\mathbf{E}_3 $\n",
    "4. $\\mathbf{A}\\cdot\\mathbf{E}_4 $\n",
    "\n",
    "and then, obtain the results of the following **pre-multiplications** (*left-side products*):\n",
    "\n",
    "1. $\\mathbf{E}_1\\cdot\\mathbf{A} $\n",
    "2. $\\mathbf{E}_2\\cdot\\mathbf{A} $\n",
    "3. $\\mathbf{E}_3\\cdot\\mathbf{A} $\n",
    "4. $\\mathbf{E}_4\\cdot\\mathbf{A} $"
   ]
  },
  {
   "cell_type": "markdown",
   "metadata": {},
   "source": [
    "# Pos-multiplications\n",
    "What do the following **right-side products** do?\n",
    "\n",
    "$$\n",
    "\\mathbf{A}\\cdot\\mathbf{E}_1 =\n",
    "\\begin{bmatrix}\n",
    "\\begin{array}{cc}\n",
    "1 & 3 \\\\\n",
    "2 & 4 \\\\\n",
    "\\end{array}\n",
    "\\end{bmatrix}\n",
    "\\cdot\n",
    "\\begin{bmatrix}\n",
    "\\begin{array}{cc}\n",
    "1 & 0 \\\\\n",
    "0 & 0 \\\\\n",
    "\\end{array}\n",
    "\\end{bmatrix}\n",
    "=\n",
    "\\begin{bmatrix}\n",
    "\\begin{array}{cc}\n",
    "1 & 0 \\\\\n",
    "2 & 0 \\\\\n",
    "\\end{array}\n",
    "\\end{bmatrix}\n",
    "$$"
   ]
  },
  {
   "cell_type": "markdown",
   "metadata": {},
   "source": [
    "$$\n",
    "\\mathbf{A}\\cdot\\mathbf{E}_2 =\n",
    "\\begin{bmatrix}\n",
    "\\begin{array}{cc}\n",
    "1 & 3 \\\\\n",
    "2 & 4 \\\\\n",
    "\\end{array}\n",
    "\\end{bmatrix}\n",
    "\\cdot\n",
    "\\begin{bmatrix}\n",
    "\\begin{array}{cc}\n",
    "0 & 0 \\\\\n",
    "0 & 1 \\\\\n",
    "\\end{array}\n",
    "\\end{bmatrix}\n",
    "=\n",
    "\\begin{bmatrix}\n",
    "\\begin{array}{cc}\n",
    "0 & 3 \\\\\n",
    "0 & 4 \\\\\n",
    "\\end{array}\n",
    "\\end{bmatrix}\n",
    "$$"
   ]
  },
  {
   "cell_type": "markdown",
   "metadata": {},
   "source": [
    "$$\n",
    "\\mathbf{A}\\cdot\\mathbf{E}_3 =\n",
    "\\begin{bmatrix}\n",
    "\\begin{array}{cc}\n",
    "1 & 3 \\\\\n",
    "2 & 4 \\\\\n",
    "\\end{array}\n",
    "\\end{bmatrix}\n",
    "\\cdot\n",
    "\\begin{bmatrix}\n",
    "\\begin{array}{cc}\n",
    "0 & 1 \\\\\n",
    "0 & 0 \\\\\n",
    "\\end{array}\n",
    "\\end{bmatrix}\n",
    "=\n",
    "\\begin{bmatrix}\n",
    "\\begin{array}{cc}\n",
    "0 & 1 \\\\\n",
    "0 & 2 \\\\\n",
    "\\end{array}\n",
    "\\end{bmatrix}\n",
    "$$"
   ]
  },
  {
   "cell_type": "markdown",
   "metadata": {},
   "source": [
    "$$\n",
    "\\mathbf{A}\\cdot\\mathbf{E}_4 =\n",
    "\\begin{bmatrix}\n",
    "\\begin{array}{cc}\n",
    "1 & 3 \\\\\n",
    "2 & 4 \\\\\n",
    "\\end{array}\n",
    "\\end{bmatrix}\n",
    "\\cdot\n",
    "\\begin{bmatrix}\n",
    "\\begin{array}{cc}\n",
    "0 & 0 \\\\\n",
    "1 & 0 \\\\\n",
    "\\end{array}\n",
    "\\end{bmatrix}\n",
    "=\n",
    "\\begin{bmatrix}\n",
    "\\begin{array}{cc}\n",
    "3 & 0 \\\\\n",
    "4 & 0 \\\\\n",
    "\\end{array}\n",
    "\\end{bmatrix}\n",
    "$$"
   ]
  },
  {
   "cell_type": "markdown",
   "metadata": {},
   "source": [
    "Let's take the **right-side product** of $\\mathbf{A}$ with the sum $\\mathbf{E}_1 + \\mathbf{E}_2$ (*element-wise addition*)\n",
    "\n",
    "$$\n",
    "\\mathbf{A}\\cdot(\\mathbf{E}_1 + \\mathbf{E}_2) =\n",
    "\\begin{bmatrix}\n",
    "\\begin{array}{cc}\n",
    "1 & 3 \\\\\n",
    "2 & 4 \\\\\n",
    "\\end{array}\n",
    "\\end{bmatrix}\n",
    "\\cdot\n",
    "\\begin{bmatrix}\n",
    "\\begin{array}{cc}\n",
    "1 & 0 \\\\\n",
    "0 & 1 \\\\\n",
    "\\end{array}\n",
    "\\end{bmatrix}\n",
    "=\n",
    "\\begin{bmatrix}\n",
    "\\begin{array}{cc}\n",
    "1 & 3 \\\\\n",
    "2 & 4 \\\\\n",
    "\\end{array}\n",
    "\\end{bmatrix}\n",
    "$$\n"
   ]
  },
  {
   "cell_type": "markdown",
   "metadata": {},
   "source": [
    "Now, let's do the same, but this time take the product $\\mathbf{A}$ with the sum $\\mathbf{E}_3 + \\mathbf{E}_4$\n",
    "\n",
    "$$\n",
    "\\mathbf{A}\\cdot(\\mathbf{E}_3 + \\mathbf{E}_4) =\n",
    "\\begin{bmatrix}\n",
    "\\begin{array}{cc}\n",
    "1 & 3 \\\\\n",
    "2 & 4 \\\\\n",
    "\\end{array}\n",
    "\\end{bmatrix}\n",
    "\\cdot\n",
    "\\begin{bmatrix}\n",
    "\\begin{array}{cc}\n",
    "0 & 1 \\\\\n",
    "1 & 0 \\\\\n",
    "\\end{array}\n",
    "\\end{bmatrix}\n",
    "=\n",
    "\\begin{bmatrix}\n",
    "\\begin{array}{cc}\n",
    "3 & 1 \\\\\n",
    "4 & 2 \\\\\n",
    "\\end{array}\n",
    "\\end{bmatrix}\n",
    "$$"
   ]
  },
  {
   "cell_type": "markdown",
   "metadata": {},
   "source": [
    "> **NOTE**: in **right-side products**,  while the **elementary operators** $\\mathbf{E}_1$ and $\\mathbf{E}_2$ are ***column selectors***, the $\\mathbf{E}_3$ and $\\mathbf{E}_4$ ***interchange the position*** of the **columns**. "
   ]
  },
  {
   "cell_type": "markdown",
   "metadata": {},
   "source": [
    "# Pre-multiplications\n",
    "What do the following **left-side products** do?\n",
    "\n",
    "$$\n",
    "\\mathbf{E}_1\\cdot\\mathbf{A} =\n",
    "\\begin{bmatrix}\n",
    "\\begin{array}{cc}\n",
    "1 & 0 \\\\\n",
    "0 & 0 \\\\\n",
    "\\end{array}\n",
    "\\end{bmatrix}\n",
    "\\cdot\n",
    "\\begin{bmatrix}\n",
    "\\begin{array}{cc}\n",
    "1 & 3 \\\\\n",
    "2 & 4 \\\\\n",
    "\\end{array}\n",
    "\\end{bmatrix}\n",
    "=\n",
    "\\begin{bmatrix}\n",
    "\\begin{array}{cc}\n",
    "1 & 3 \\\\\n",
    "0 & 0 \\\\\n",
    "\\end{array}\n",
    "\\end{bmatrix}\n",
    "$$\n",
    "\n",
    "$$\n",
    "\\mathbf{E}_2\\cdot\\mathbf{A} =\n",
    "\\begin{bmatrix}\n",
    "\\begin{array}{cc}\n",
    "0 & 0 \\\\\n",
    "0 & 1 \\\\\n",
    "\\end{array}\n",
    "\\end{bmatrix}\n",
    "\\cdot\n",
    "\\begin{bmatrix}\n",
    "\\begin{array}{cc}\n",
    "1 & 3 \\\\\n",
    "2 & 4 \\\\\n",
    "\\end{array}\n",
    "\\end{bmatrix}\n",
    "=\n",
    "\\begin{bmatrix}\n",
    "\\begin{array}{cc}\n",
    "0 & 0 \\\\\n",
    "2 & 4 \\\\\n",
    "\\end{array}\n",
    "\\end{bmatrix}\n",
    "$$\n",
    "\n",
    "$$\n",
    "\\mathbf{E}_3\\cdot\\mathbf{A} =\n",
    "\\begin{bmatrix}\n",
    "\\begin{array}{cc}\n",
    "0 & 1 \\\\\n",
    "0 & 0 \\\\\n",
    "\\end{array}\n",
    "\\end{bmatrix}\n",
    "\\cdot\n",
    "\\begin{bmatrix}\n",
    "\\begin{array}{cc}\n",
    "1 & 3 \\\\\n",
    "2 & 4 \\\\\n",
    "\\end{array}\n",
    "\\end{bmatrix}\n",
    "=\n",
    "\\begin{bmatrix}\n",
    "\\begin{array}{cc}\n",
    "2 & 4 \\\\\n",
    "0 & 0 \\\\\n",
    "\\end{array}\n",
    "\\end{bmatrix}\n",
    "$$\n",
    "\n",
    "$$\n",
    "\\mathbf{E}_4\\cdot\\mathbf{A} =\n",
    "\\begin{bmatrix}\n",
    "\\begin{array}{cc}\n",
    "0 & 0 \\\\\n",
    "1 & 0 \\\\\n",
    "\\end{array}\n",
    "\\end{bmatrix}\n",
    "\\cdot\n",
    "\\begin{bmatrix}\n",
    "\\begin{array}{cc}\n",
    "1 & 3 \\\\\n",
    "2 & 4 \\\\\n",
    "\\end{array}\n",
    "\\end{bmatrix}\n",
    "=\n",
    "\\begin{bmatrix}\n",
    "\\begin{array}{cc}\n",
    "0 & 0 \\\\\n",
    "1 & 3 \\\\\n",
    "\\end{array}\n",
    "\\end{bmatrix}\n",
    "$$\n",
    "\n",
    "\n"
   ]
  },
  {
   "cell_type": "markdown",
   "metadata": {},
   "source": [
    "Let's take the **left-side product** of $\\mathbf{A}$ with the sum $\\mathbf{E}_1 + \\mathbf{E}_2$ (*element-wise addition*)\n",
    "\n",
    "$$\n",
    "(\\mathbf{E}_1 + \\mathbf{E}_2)\\cdot\\mathbf{A} =\n",
    "\\begin{bmatrix}\n",
    "\\begin{array}{cc}\n",
    "1 & 0 \\\\\n",
    "0 & 1 \\\\\n",
    "\\end{array}\n",
    "\\end{bmatrix}\n",
    "\\cdot\n",
    "\\begin{bmatrix}\n",
    "\\begin{array}{cc}\n",
    "1 & 3 \\\\\n",
    "2 & 4 \\\\\n",
    "\\end{array}\n",
    "\\end{bmatrix}\n",
    "=\n",
    "\\begin{bmatrix}\n",
    "\\begin{array}{cc}\n",
    "1 & 3 \\\\\n",
    "2 & 4 \\\\\n",
    "\\end{array}\n",
    "\\end{bmatrix}\n",
    "$$\n"
   ]
  },
  {
   "cell_type": "markdown",
   "metadata": {},
   "source": [
    "Now, let's **pre-multiply** $\\mathbf{A}$ with the sum $\\mathbf{E}_3 + \\mathbf{E}_4$ \n",
    "\n",
    "$$\n",
    "(\\mathbf{E}_3 + \\mathbf{E}_4)\\cdot\\mathbf{A} =\n",
    "\\begin{bmatrix}\n",
    "\\begin{array}{cc}\n",
    "0 & 1 \\\\\n",
    "1 & 0 \\\\\n",
    "\\end{array}\n",
    "\\end{bmatrix}\n",
    "\\cdot\n",
    "\\begin{bmatrix}\n",
    "\\begin{array}{cc}\n",
    "1 & 3 \\\\\n",
    "2 & 4 \\\\\n",
    "\\end{array}\n",
    "\\end{bmatrix}\n",
    "=\n",
    "\\begin{bmatrix}\n",
    "\\begin{array}{cc}\n",
    "2 & 4 \\\\\n",
    "1 & 3 \\\\\n",
    "\\end{array}\n",
    "\\end{bmatrix}\n",
    "$$\n",
    "\n",
    "Notice that $\\mathbf{E}_3$ and $\\mathbf{E}_4$ ***interchange the position*** of the **rows**. \n"
   ]
  },
  {
   "cell_type": "markdown",
   "metadata": {},
   "source": [
    "> **NOTE**: in **left-side products**,  while the **elementary operators** $\\mathbf{E}_1$ and $\\mathbf{E}_2$ are ***row selectors***, the $\\mathbf{E}_3$ and $\\mathbf{E}_4$ ***interchange the position*** of the **rows**. "
   ]
  },
  {
   "cell_type": "markdown",
   "metadata": {},
   "source": [
    "**In summary...**\n",
    "+ **Right-side products** (*pos-multiplications*) affect the **column space** in $\\mathbf{A}$\n",
    "+ **Left-side products** (*pre-multiplications*) affect the **row space** in $\\mathbf{A}$\n",
    "\n",
    "> **NOTE**: If we change the $1$'s by a nonzero scalar $\\alpha$, in the **elementary matrices**, we are **scaling** the corresponding vectors."
   ]
  },
  {
   "cell_type": "markdown",
   "metadata": {},
   "source": [
    "---\n",
    "## *Example*:\n",
    "---\n",
    "\n",
    "Given \n",
    "$\n",
    "\\mathcal{A}= \n",
    "\\begin{bmatrix}\n",
    "\\begin{array}{cc}\n",
    "0 & 1 \\\\\n",
    "2 & 3 \\\\\n",
    "\\end{array}\n",
    "\\end{bmatrix}\n",
    "$,\n",
    "replace the $2$nd **row** by a combination of itself plus 3 times the $1$st row. "
   ]
  },
  {
   "cell_type": "markdown",
   "metadata": {},
   "source": [
    "\n",
    "$$\n",
    "R_2 \\leftarrow R_2 + 3\\cdot R_1  \n",
    "\\Rightarrow\n",
    "\\left(\n",
    "\\begin{bmatrix}\n",
    "0 & 0 \\\\\n",
    "0 & 1 \\\\\n",
    "\\end{bmatrix}\n",
    "+\n",
    "3\\cdot\n",
    "\\begin{bmatrix}\n",
    "0 & 0 \\\\\n",
    "1 & 0 \\\\\n",
    "\\end{bmatrix}\n",
    "\\right)\n",
    "=\n",
    "\\begin{bmatrix}\n",
    "0 & 0 \\\\\n",
    "3 & 1 \\\\\n",
    "\\end{bmatrix}\n",
    "= \n",
    "\\mathbf{E}\n",
    "$$"
   ]
  },
  {
   "cell_type": "markdown",
   "metadata": {},
   "source": [
    "From our **Calculus breviary**, we know that  $\\quad f(x) \\Leftrightarrow  X \\xrightarrow{f} Y$\n"
   ]
  },
  {
   "cell_type": "markdown",
   "metadata": {},
   "source": [
    "thus, $\\mathcal{A}' = \\mathbf{E}\\cdot \\mathcal{A}$\n",
    "\n",
    "$$\n",
    "\\begin{bmatrix}\n",
    "0 & 1 \\\\\n",
    "2 & 3 \\\\\n",
    "\\end{bmatrix}\n",
    "\\xrightarrow{ R_2 \\leftarrow R_2 + 3\\cdot R_1}\n",
    "\\left(\n",
    "\\begin{bmatrix}\n",
    "0 & 0 \\\\\n",
    "0 & 1 \\\\\n",
    "\\end{bmatrix}\n",
    "+\n",
    "3\\cdot\n",
    "\\begin{bmatrix}\n",
    "0 & 0 \\\\\n",
    "1 & 0 \\\\\n",
    "\\end{bmatrix}\n",
    "\\right)\n",
    "\\cdot\n",
    "\\begin{bmatrix}\n",
    "0 & 1 \\\\\n",
    "2 & 3 \\\\\n",
    "\\end{bmatrix}\n",
    "$$"
   ]
  },
  {
   "cell_type": "markdown",
   "metadata": {},
   "source": [
    "$$\n",
    "\\begin{bmatrix}\n",
    "0 & 1 \\\\\n",
    "2 & 3 \\\\\n",
    "\\end{bmatrix}\n",
    "\\xrightarrow{ R_2 \\leftarrow R_2 + 3\\cdot R_1}\n",
    "\\left(\n",
    "\\begin{bmatrix}\n",
    "0 & 0 \\\\\n",
    "3 & 1 \\\\\n",
    "\\end{bmatrix}\n",
    "\\right)\n",
    "\\cdot\n",
    "\\begin{bmatrix}\n",
    "0 & 1 \\\\\n",
    "2 & 3 \\\\\n",
    "\\end{bmatrix}\n",
    "$$"
   ]
  },
  {
   "cell_type": "markdown",
   "metadata": {},
   "source": [
    "$$\n",
    "\\begin{bmatrix}\n",
    "0 & 1 \\\\\n",
    "2 & 3 \\\\\n",
    "\\end{bmatrix}\n",
    "\\xrightarrow{ R_2 \\leftarrow R_2 + 3\\cdot R_1}\n",
    "\\begin{bmatrix}\n",
    "0 & 0 \\\\\n",
    "2 & 6 \\\\\n",
    "\\end{bmatrix}\n",
    "$$\n"
   ]
  },
  {
   "cell_type": "markdown",
   "metadata": {},
   "source": [
    "### We lost $R_1$, why?\n",
    "An **elementary matrix** is created by performing an **elementary operation** to an identity matrix.\n",
    "\n",
    "Thus, in order to maintain $R_1$ unchanged, we use the following operator"
   ]
  },
  {
   "cell_type": "markdown",
   "metadata": {},
   "source": [
    "$$\n",
    "R_2 + 3\\cdot R_1  \\Rightarrow\n",
    "\\left(\n",
    "\\begin{bmatrix}\n",
    "1 & 0 \\\\\n",
    "0 & 1 \\\\\n",
    "\\end{bmatrix}\n",
    "+\n",
    "3\\cdot\n",
    "\\begin{bmatrix}\n",
    "0 & 0 \\\\\n",
    "1 & 0 \\\\\n",
    "\\end{bmatrix}\n",
    "\\right)\n",
    "=\n",
    "\\begin{bmatrix}\n",
    "1 & 0 \\\\\n",
    "3 & 1 \\\\\n",
    "\\end{bmatrix}\n",
    "=\n",
    "\\mathbf{E}\n",
    "$$"
   ]
  },
  {
   "cell_type": "markdown",
   "metadata": {},
   "source": [
    "$$\n",
    "\\mathbf{E} \\cdot \\mathcal{A} =\n",
    "\\begin{bmatrix}\n",
    "1 & 0 \\\\\n",
    "3 & 1 \\\\\n",
    "\\end{bmatrix}\n",
    "\\cdot\n",
    "\\begin{bmatrix}\n",
    "0 & 1 \\\\\n",
    "2 & 3 \\\\\n",
    "\\end{bmatrix}\n",
    "= \n",
    "\\begin{bmatrix}\n",
    "0 & 1 \\\\\n",
    "2 & 6 \\\\\n",
    "\\end{bmatrix}\n",
    "$$"
   ]
  },
  {
   "cell_type": "markdown",
   "metadata": {},
   "source": [
    "or equivalently,"
   ]
  },
  {
   "cell_type": "markdown",
   "metadata": {},
   "source": [
    "$$\n",
    "\\begin{bmatrix}\n",
    "0 & 1 \\\\\n",
    "2 & 3 \\\\\n",
    "\\end{bmatrix}\n",
    "\\xrightarrow{ R_2 \\leftarrow R_2 + 3\\cdot R_1}\n",
    "\\begin{bmatrix}\n",
    "0 & 1 \\\\\n",
    "2 & 6 \\\\\n",
    "\\end{bmatrix}\n",
    "$$\n"
   ]
  },
  {
   "cell_type": "markdown",
   "metadata": {},
   "source": [
    "$$\n",
    "\\begin{bmatrix}\n",
    "0 & 1 \\\\\n",
    "2 & 3 \\\\\n",
    "\\end{bmatrix}\n",
    "\\xrightarrow{ \\mathbf{E}}\n",
    "\\begin{bmatrix}\n",
    "0 & 1 \\\\\n",
    "2 & 6 \\\\\n",
    "\\end{bmatrix}\n",
    "$$\n"
   ]
  },
  {
   "cell_type": "markdown",
   "metadata": {},
   "source": [
    "---\n",
    "## *Problem*:\n",
    "Assume that $\\mathbf{A}$ is a $4\\times 3$ matrix. Suppose you want to multiply each element in its $2$nd **column** by a scalar factor of $\\alpha$. Find the **elementary column operator** $\\mathbf{E}$.\n"
   ]
  },
  {
   "cell_type": "markdown",
   "metadata": {},
   "source": [
    "### Solution\n",
    "\n",
    "1\\. The operation affects the **column space** of $\\mathbf{A}$, so we'll apply **pos-multiplication**\n",
    "\n",
    "2\\. Since we are dealing with **right-side product**, we need a $3\\times 3$ matrix  \n",
    "\n",
    "$$\n",
    "\\mathbf{E}_2= \n",
    "\\begin{bmatrix}\n",
    "0 & 0 & 0 \\\\\n",
    "0 & 1 & 0 \\\\\n",
    "0 & 0 & 0 \\\\\n",
    "\\end{bmatrix}\n",
    "$$\n",
    "\n",
    "3\\. To take into account the scalar factor of $\\alpha$\n",
    "\n",
    "$$\n",
    "\\alpha \\cdot\n",
    "\\mathbf{E}_2= \n",
    "\\begin{bmatrix}\n",
    "0 & 0 & 0 \\\\\n",
    "0 & \\alpha & 0 \\\\\n",
    "0 & 0 & 0 \\\\\n",
    "\\end{bmatrix}\n",
    "$$"
   ]
  },
  {
   "cell_type": "markdown",
   "metadata": {},
   "source": [
    "$$\n",
    "% matrix, pmatrix, bmatrix, Bmatrix, vmatrix, Vmatrix\n",
    "\\begin{pmatrix} %smallmatrix\n",
    "  a_{1,1} & a_{1,2} & a_{1,3} \\\\\n",
    "  a_{2,1} & a_{2,2} & a_{2,3} \\\\\n",
    "  a_{3,1} & a_{3,2} & a_{3,3} \\\\\n",
    "  a_{4,1} & a_{4,2} & a_{4,3} \n",
    " \\end{pmatrix}\n",
    "\\cdot\n",
    "\\begin{pmatrix}\n",
    "0 & 0 & 0 \\\\\n",
    "0 & \\alpha & 0 \\\\\n",
    "0 & 0 & 0 \\\\\n",
    "\\end{pmatrix}\n",
    "=\n",
    "\\begin{pmatrix} %smallmatrix\n",
    "  0 & \\alpha\\cdot a_{1,2} & 0 \\\\\n",
    "  0 & \\alpha\\cdot a_{2,2} & 0 \\\\\n",
    "  0 & \\alpha\\cdot a_{3,2} & 0 \\\\\n",
    "  0 & \\alpha\\cdot a_{4,2} & 0 \n",
    " \\end{pmatrix}\n",
    "$$\n",
    "\n"
   ]
  },
  {
   "cell_type": "markdown",
   "metadata": {},
   "source": [
    "---\n",
    "# Linear regression: Example\n",
    "---\n",
    "In our linear regression example, at some point, we worked with the augmented matrix associated to the matrix equation\n",
    "\n",
    "$$\n",
    "\\begin{bmatrix}\n",
    "1 & 1 \\\\\n",
    "1 & 3 \\\\\n",
    "\\end{bmatrix}\n",
    "\\cdot\n",
    "\\begin{bmatrix} \n",
    "\\beta_{0}\\\\ \\beta_{1}\n",
    "\\end{bmatrix} \n",
    "=\n",
    "\\begin{bmatrix} \n",
    "1\\\\ 2\n",
    "\\end{bmatrix} \n",
    "$$\n"
   ]
  },
  {
   "cell_type": "markdown",
   "metadata": {},
   "source": [
    "then, we applied a sequence of **elementary operations**"
   ]
  },
  {
   "cell_type": "markdown",
   "metadata": {},
   "source": [
    "***Step 1***... row operation\n",
    "\n",
    "$$\n",
    "\\mathcal{S'}= \n",
    "\\begin{bmatrix}\n",
    "\\begin{array}{cc|c}\n",
    "1 & 1 & 1\\\\\n",
    "1 & 3 & 2\\\\\n",
    "\\end{array}\n",
    "\\end{bmatrix}\n",
    "\\xrightarrow{E_2 \\leftarrow E_2 - E_1 }\n",
    "\\begin{bmatrix}\n",
    "\\begin{array}{cc|c}\n",
    "1 & 1 & 1\\\\\n",
    "0 & 2 & 1\\\\\n",
    "\\end{array}\n",
    "\\end{bmatrix}\n",
    "$$\n",
    "\n",
    "***Step 2***... row operation\n",
    "\n",
    "$$\n",
    "\\mathcal{S'}= \n",
    "\\begin{bmatrix}\n",
    "\\begin{array}{cc|c}\n",
    "1 & 1 & 1\\\\\n",
    "0 & 2 & 1\\\\\n",
    "\\end{array}\n",
    "\\end{bmatrix}\n",
    "\\xrightarrow{E_2 \\leftarrow \\alpha E_2}\n",
    "\\begin{bmatrix}\n",
    "\\begin{array}{cc|c}\n",
    "1 & 1 & 1\\\\\n",
    "0 & 1 & \\frac{1}{2}\\\\\n",
    "\\end{array}\n",
    "\\end{bmatrix}\n",
    "$$\n",
    "\n",
    "***Step 3***... row operation\n",
    "\n",
    "$$\n",
    "\\mathcal{S'}= \n",
    "\\begin{bmatrix}\n",
    "\\begin{array}{cc|c}\n",
    "1 & 1 & 1\\\\\n",
    "0 & 1 & \\frac{1}{2}\\\\\n",
    "\\end{array}\n",
    "\\end{bmatrix}\n",
    "\\xrightarrow{E_1 \\leftarrow E_1 - E_2}\n",
    "\\begin{bmatrix}\n",
    "\\begin{array}{cc|c}\n",
    "1 & 0 & \\frac{1}{2}\\\\\n",
    "0 & 1 & \\frac{1}{2}\\\\\n",
    "\\end{array}\n",
    "\\end{bmatrix}\n",
    "$$\n"
   ]
  },
  {
   "cell_type": "markdown",
   "metadata": {},
   "source": [
    "Now, taking away the **augmented** part, we can rewrite each step as follows"
   ]
  },
  {
   "cell_type": "markdown",
   "metadata": {},
   "source": [
    "***Step 1***... Type III Elementary ($\\mathbf{E_3}$) row operation\n",
    "\n",
    "$$\n",
    "\\begin{bmatrix}\n",
    "1 & 1\\\\\n",
    "1 & 3\\\\\n",
    "\\end{bmatrix}\n",
    "\\xrightarrow{R_2 \\leftarrow R_2 - R_1 }\n",
    "\\begin{bmatrix}\n",
    "1 & 1 \\\\\n",
    "0 & 2 \\\\\n",
    "\\end{bmatrix}\n",
    "$$"
   ]
  },
  {
   "cell_type": "markdown",
   "metadata": {},
   "source": [
    "$$\n",
    "R_2 \\leftarrow R_2 + (-1)\\cdot R_1  \\Rightarrow\n",
    "\\left(\n",
    "\\begin{bmatrix}\n",
    "1 & 0 \\\\\n",
    "0 & 1 \\\\\n",
    "\\end{bmatrix}\n",
    "+\n",
    "(-1) \\cdot\n",
    "\\begin{bmatrix}\n",
    "0 & 0 \\\\\n",
    "1 & 0 \\\\\n",
    "\\end{bmatrix}\n",
    "\\right)\n",
    "= \n",
    "\\begin{bmatrix}\n",
    " 1 & 0 \\\\\n",
    "-1 & 1 \\\\\n",
    "\\end{bmatrix}\n",
    "$$"
   ]
  },
  {
   "cell_type": "markdown",
   "metadata": {},
   "source": [
    "thus,\n",
    "\n",
    "$$\n",
    "\\begin{bmatrix}\n",
    "1 & 1\\\\\n",
    "1 & 3\\\\\n",
    "\\end{bmatrix}\n",
    "\\xrightarrow{R_2 \\leftarrow R_2 - R_1 }\n",
    "\\begin{bmatrix}\n",
    " 1 & 0 \\\\\n",
    "-1 & 1 \\\\\n",
    "\\end{bmatrix}\n",
    "\\cdot\n",
    "\\begin{bmatrix}\n",
    "1 & 1\\\\\n",
    "1 & 3\\\\\n",
    "\\end{bmatrix}\n",
    "=\n",
    "\\begin{bmatrix}\n",
    "1 & 1 \\\\\n",
    "0 & 2 \\\\\n",
    "\\end{bmatrix}\n",
    "$$"
   ]
  },
  {
   "cell_type": "markdown",
   "metadata": {},
   "source": [
    "***Step 2***... Type II Elementary ($\\mathbf{E_2}$) row operation\n",
    "\n",
    "$$\n",
    "\\begin{bmatrix}\n",
    "1 & 1 \\\\\n",
    "0 & 2 \\\\\n",
    "\\end{bmatrix}\n",
    "\\xrightarrow{R_2 \\leftarrow \\frac{1}{2} R_2}\n",
    "\\begin{bmatrix}\n",
    "1 & 1 \\\\\n",
    "0 & 1 \\\\\n",
    "\\end{bmatrix}\n",
    "$$\n"
   ]
  },
  {
   "cell_type": "markdown",
   "metadata": {},
   "source": [
    "$$\n",
    "R_2 \\leftarrow \\frac{1}{2} R_2 \\Rightarrow\n",
    "\\begin{bmatrix}\n",
    "1 & 0 \\\\\n",
    "0 & \\frac{1}{2} \\\\\n",
    "\\end{bmatrix}\n",
    "$$"
   ]
  },
  {
   "cell_type": "markdown",
   "metadata": {},
   "source": [
    "thus,\n",
    "\n",
    "$$\n",
    "\\begin{bmatrix}\n",
    "1 & 1 \\\\\n",
    "0 & 2 \\\\\n",
    "\\end{bmatrix}\n",
    "\\xrightarrow{R_2 \\leftarrow \\frac{1}{2} R_2}\n",
    "\\begin{bmatrix}\n",
    "1 & 0 \\\\\n",
    "0 & \\frac{1}{2} \\\\\n",
    "\\end{bmatrix}\n",
    "\\cdot\n",
    "\\begin{bmatrix}\n",
    "1 & 1 \\\\\n",
    "0 & 2 \\\\\n",
    "\\end{bmatrix}\n",
    "=\n",
    "\\begin{bmatrix}\n",
    "1 & 1 \\\\\n",
    "0 & 1 \\\\\n",
    "\\end{bmatrix}\n",
    "$$\n"
   ]
  },
  {
   "cell_type": "markdown",
   "metadata": {},
   "source": [
    "***Step 3***... Type III Elementary ($\\mathbf{E_3}$) row operation\n",
    "\n",
    "$$\n",
    "\\begin{bmatrix}\n",
    "1 & 1 \\\\\n",
    "0 & 1 \\\\\n",
    "\\end{bmatrix}\n",
    "\\xrightarrow{R_1 \\leftarrow R_1 - R_2}\n",
    "\\begin{bmatrix}\n",
    "1 & 0 \\\\\n",
    "0 & 1 \\\\\n",
    "\\end{bmatrix}\n",
    "$$"
   ]
  },
  {
   "cell_type": "markdown",
   "metadata": {},
   "source": [
    "$$\n",
    "R_1 \\leftarrow R_1 + (-1)\\cdot R_2  \\Rightarrow\n",
    "\\left(\n",
    "\\begin{bmatrix}\n",
    "1 & 0 \\\\\n",
    "0 & 1 \\\\\n",
    "\\end{bmatrix}\n",
    "+\n",
    "(-1) \\cdot\n",
    "\\begin{bmatrix}\n",
    "0 & 1 \\\\\n",
    "0 & 0 \\\\\n",
    "\\end{bmatrix}\n",
    "\\right)\n",
    "= \n",
    "\\begin{bmatrix}\n",
    " 1 & -1 \\\\\n",
    " 0 & 1 \\\\\n",
    "\\end{bmatrix}\n",
    "$$"
   ]
  },
  {
   "cell_type": "markdown",
   "metadata": {},
   "source": [
    "thus,\n",
    "\n",
    "$$\n",
    "\\begin{bmatrix}\n",
    "1 & 1 \\\\\n",
    "0 & 1 \\\\\n",
    "\\end{bmatrix}\n",
    "\\xrightarrow{R_1 \\leftarrow R_1 - R_2}\n",
    "\\begin{bmatrix}\n",
    " 1 & -1 \\\\\n",
    " 0 & 1 \\\\\n",
    "\\end{bmatrix}\n",
    "\\cdot\n",
    "\\begin{bmatrix}\n",
    "1 & 1 \\\\\n",
    "0 & 1 \\\\\n",
    "\\end{bmatrix}\n",
    "=\n",
    "\\begin{bmatrix}\n",
    "1 & 0 \\\\\n",
    "0 & 1 \\\\\n",
    "\\end{bmatrix}\n",
    "$$\n",
    "\n"
   ]
  },
  {
   "cell_type": "markdown",
   "metadata": {},
   "source": [
    "We can summarize these **sequence of operations** as follows"
   ]
  },
  {
   "cell_type": "markdown",
   "metadata": {},
   "source": [
    "$$\n",
    "\\mathbf{E}_3\n",
    "\\cdot\n",
    "\\left(\n",
    "\\mathbf{E}_2\n",
    "\\cdot\n",
    "\\left(\n",
    "\\mathbf{E}_3\n",
    "\\cdot\n",
    "\\begin{bmatrix}\n",
    "1 & 1\\\\\n",
    "1 & 3\\\\\n",
    "\\end{bmatrix}\n",
    "\\right)\n",
    "\\right)\n",
    "=\n",
    "\\begin{bmatrix}\n",
    "1 & 0\\\\\n",
    "0 & 1\\\\\n",
    "\\end{bmatrix}\n",
    "$$"
   ]
  },
  {
   "cell_type": "markdown",
   "metadata": {},
   "source": [
    "or equivalently, \n",
    "\n",
    "$$\n",
    "\\begin{bmatrix}\n",
    " 1 & -1 \\\\\n",
    " 0 & 1 \\\\\n",
    "\\end{bmatrix}\n",
    "\\cdot\n",
    "\\left(\n",
    "\\begin{bmatrix}\n",
    "1 & 0 \\\\\n",
    "0 & \\frac{1}{2} \\\\\n",
    "\\end{bmatrix}\n",
    "\\cdot\n",
    "\\left(\n",
    "\\begin{bmatrix}\n",
    " 1 & 0 \\\\\n",
    "-1 & 1 \\\\\n",
    "\\end{bmatrix}\n",
    "\\cdot\n",
    "\\begin{bmatrix}\n",
    "1 & 1\\\\\n",
    "1 & 3\\\\\n",
    "\\end{bmatrix}\n",
    "\\right)\n",
    "\\right)\n",
    "=\n",
    "\\begin{bmatrix}\n",
    "1 & 0\\\\\n",
    "0 & 1\\\\\n",
    "\\end{bmatrix}\n",
    "$$"
   ]
  },
  {
   "cell_type": "markdown",
   "metadata": {},
   "source": [
    "if we reassociate the operations, then\n",
    "\n",
    "$$\n",
    "\\begin{bmatrix}\n",
    "1 & 0\\\\\n",
    "0 & 1\\\\\n",
    "\\end{bmatrix}\n",
    "= \n",
    "\\left(\n",
    "\\begin{bmatrix}\n",
    " 1 & -1 \\\\\n",
    " 0 & 1 \\\\\n",
    "\\end{bmatrix}\n",
    "\\cdot\n",
    "\\begin{bmatrix}\n",
    "1 & 0 \\\\\n",
    "0 & \\frac{1}{2} \\\\\n",
    "\\end{bmatrix}\n",
    "\\cdot\n",
    "\\begin{bmatrix}\n",
    " 1 & 0 \\\\\n",
    "-1 & 1 \\\\\n",
    "\\end{bmatrix}\n",
    "\\right)\n",
    "\\cdot\n",
    "\\begin{bmatrix}\n",
    "1 & 1\\\\\n",
    "1 & 3\\\\\n",
    "\\end{bmatrix}\n",
    "$$"
   ]
  },
  {
   "cell_type": "markdown",
   "metadata": {},
   "source": [
    "which is the same as\n",
    "\n",
    "$$\n",
    "\\begin{bmatrix}\n",
    "1 & 0\\\\\n",
    "0 & 1\\\\\n",
    "\\end{bmatrix}\n",
    "= \n",
    "\\left(\n",
    "\\begin{bmatrix}\n",
    "\\frac{3}{2} & -\\frac{1}{2} \\\\\n",
    "-\\frac{1}{2} & \\frac{1}{2}\\\\\n",
    "\\end{bmatrix}\n",
    "\\right)\n",
    "\\cdot\n",
    "\\begin{bmatrix}\n",
    "1 & 1\\\\\n",
    "1 & 3\\\\\n",
    "\\end{bmatrix}\n",
    "$$"
   ]
  },
  {
   "cell_type": "markdown",
   "metadata": {},
   "source": [
    "$$\n",
    "\\begin{bmatrix}\n",
    "1 & 0\\\\\n",
    "0 & 1\\\\\n",
    "\\end{bmatrix}\n",
    "= \n",
    "\\mathbf{E}\n",
    "\\cdot\n",
    "\\begin{bmatrix}\n",
    "1 & 1\\\\\n",
    "1 & 3\\\\\n",
    "\\end{bmatrix}\n",
    "$$"
   ]
  },
  {
   "cell_type": "markdown",
   "metadata": {},
   "source": [
    "# Products of Elementary Matrices and Inverse\n",
    "$\\mathbf{A}$ is a **nonsingular matrix** (***invertible***) *if and only* if $\\mathbf{A}$ is the **product of elementary matrices** of Type I, II, or III."
   ]
  },
  {
   "cell_type": "markdown",
   "metadata": {},
   "source": [
    "We can **row reduce** a matrix  $\\mathbf{A}$ to the **Identity** matrix $\\mathbf{I}$ if it is invertible\n",
    "\n",
    "$$\n",
    "\\mathbf{E}_{p}\\cdot(\\mathbf{E}_{p-1}\\cdot(\\ldots(\\mathbf{E}_{1}\\cdot\\mathbf{A})\\ldots))= \\mathbf{I}\n",
    "$$"
   ]
  },
  {
   "cell_type": "markdown",
   "metadata": {},
   "source": [
    "therefore \n",
    "\n",
    "$$\n",
    "(\\mathbf{E}_{p}\\cdot\\mathbf{E}_{p-1}\\ldots\\mathbf{E}_{1})\\cdot\\mathbf{A}= \\mathbf{I}\n",
    "$$"
   ]
  },
  {
   "cell_type": "markdown",
   "metadata": {},
   "source": [
    "since the product of elementary matrices is also an elementary matrix\n",
    "\n",
    "$$\n",
    "\\mathbf{E}\\cdot\\mathbf{A}= \\mathbf{I}\n",
    "$$"
   ]
  },
  {
   "cell_type": "markdown",
   "metadata": {},
   "source": [
    "besides, all elementary matrices are **invertible**\n",
    "\n",
    "$$\n",
    "\\mathbf{E}^{-1}\\cdot\\mathbf{E}\\cdot\\mathbf{A}= \\mathbf{E}^{-1}\\cdot\\mathbf{I}\n",
    "$$"
   ]
  },
  {
   "cell_type": "markdown",
   "metadata": {},
   "source": [
    "$$\n",
    "\\mathbf{I}\\cdot\\mathbf{A}=\\mathbf{E}^{-1}\\cdot \\mathbf{I}\n",
    "$$"
   ]
  },
  {
   "cell_type": "markdown",
   "metadata": {},
   "source": [
    "$$\n",
    "\\mathbf{A}= \n",
    "\\mathbf{E}^{-1}\n",
    "$$"
   ]
  },
  {
   "cell_type": "markdown",
   "metadata": {},
   "source": [
    "since $\\mathbf{A}$ is invertible\n",
    "\n",
    "\n",
    "$$\n",
    "\\mathbf{A}^{-1}= \n",
    "(\\mathbf{E}^{-1})^{-1}\n",
    "$$\n"
   ]
  },
  {
   "cell_type": "markdown",
   "metadata": {},
   "source": [
    "$$\n",
    "\\mathbf{A}^{-1}= \n",
    "\\mathbf{E}\n",
    "$$"
   ]
  },
  {
   "cell_type": "markdown",
   "metadata": {},
   "source": [
    "where \n",
    "\n",
    "$$\n",
    "\\mathbf{A}^{-1}= \n",
    "\\mathbf{E}_{p}\\mathbf{E}_{p-1}\\ldots\\mathbf{E}_{1}\n",
    "$$"
   ]
  },
  {
   "cell_type": "markdown",
   "metadata": {},
   "source": [
    "therefore,  by **finding the elementary matrices**, which drives $\\mathbf{A}$ to the identity, we are actually **finding the inverse** of $\\mathbf{A}$, i.e, we can take $\\mathbf{A} \\rightarrow \\mathbf{I}$ and $\\mathbf{I} \\rightarrow \\mathbf{A}^{-1}$\n",
    "\n",
    "\n",
    "$$\n",
    "\\begin{bmatrix}\n",
    "\\begin{array}{c|c}\n",
    "\\mathbf{A} & \\mathbf{I}\\\\\n",
    "\\end{array}\n",
    "\\end{bmatrix}\n",
    "\\xrightarrow{\\mathbf{E}}\n",
    "\\begin{bmatrix}\n",
    "\\begin{array}{c|c}\n",
    "\\mathbf{I} & \\mathbf{A}^{-1}\\\\\n",
    "\\end{array}\n",
    "\\end{bmatrix}\n",
    "$$"
   ]
  },
  {
   "cell_type": "markdown",
   "metadata": {},
   "source": [
    "---\n",
    "# Why we bother with matrix treatment?\n",
    "\n",
    "**Machine Learning** is a field that *intersects* **Linear Algebra** and **Matrix Analysis** for **Statistics**\n",
    "\n",
    "+ A number of widely used **machine learning** methods, mainly **unsupervised methods**, can be accommodated into **matrix factorization framework** (*with some variations*)\n",
    "+ Matrix factorization allows us to discover **underlying latent factors** and/or to **predict missing values** in the matrix\n",
    "+ **Singular Value Decomposition** (SVD) of the data matrix: $\\mathbf X=\\mathbf U\\mathbf \\Sigma\\mathbf V^\\top$\n",
    "+ **Principal Component Analysis** (PCA), *eigen-decomposition of the covariance matrix*: $\\mathbf X\\mathbf X^\\top=\\mathbf W\\mathbf D\\mathbf W^\\top$\n",
    " \n",
    "$$\n",
    "\\begin{align*}\n",
    "\\mathbf X\\mathbf X^\\top &= (\\mathbf U\\mathbf \\Sigma\\mathbf V^\\top)(\\mathbf U\\mathbf \\Sigma\\mathbf V^\\top)^\\top\\\\\n",
    "\\mathbf X\\mathbf X^\\top &= (\\mathbf U\\mathbf \\Sigma\\mathbf V^\\top)(\\mathbf V\\mathbf \\Sigma\\mathbf U^\\top)\n",
    "\\quad \\text{where} \\quad \\mathbf V^\\top \\mathbf V=\\mathbf I\\\\\n",
    "\\mathbf X\\mathbf X^\\top &= \\mathbf U\\mathbf \\Sigma^2 \\mathbf U^\\top\n",
    "\\end{align*}\n",
    "$$\n"
   ]
  },
  {
   "cell_type": "markdown",
   "metadata": {},
   "source": [
    "---\n",
    "## Going back from our linear algebra breviary... \n",
    "\n",
    "The matrix equation we are interested in is \n",
    "$\\mathbf{A} \\cdot \\boldsymbol{\\beta} = \\mathbf{y} $, \n",
    "and the system we are dealing with is\n",
    "\n",
    "$$\n",
    "\\begin{bmatrix}\n",
    "1 & 1 \\\\\n",
    "1 & 3 \\\\\n",
    "\\end{bmatrix}\n",
    "\\cdot\n",
    "\\begin{bmatrix} \n",
    "\\beta_{0}\\\\ \\beta_{1}\n",
    "\\end{bmatrix} \n",
    "=\n",
    "\\begin{bmatrix} \n",
    "1\\\\ 2\n",
    "\\end{bmatrix} \n",
    "$$\n"
   ]
  },
  {
   "cell_type": "markdown",
   "metadata": {},
   "source": [
    "In order to reduce this system we applied the **elementary operations**. However, we already know that we can solve the system by simply get the inverse of the coefficient matrix...\n",
    "\n",
    "$$\\boldsymbol{\\beta} = \\mathbf{A}^{-1} \\cdot \\mathbf{y} $$\n"
   ]
  },
  {
   "cell_type": "code",
   "execution_count": 1,
   "metadata": {},
   "outputs": [
    {
     "data": {
      "text/plain": [
       "matrix([[ 0.5],\n",
       "        [ 0.5]])"
      ]
     },
     "execution_count": 1,
     "metadata": {},
     "output_type": "execute_result"
    }
   ],
   "source": [
    "from numpy import matrix, dot\n",
    "from numpy.linalg import  inv\n",
    "\n",
    "A = matrix('1,1 ; 1,3') \n",
    "y = matrix('1 ; 2')  \n",
    "\n",
    "beta= dot(inv(A), y) \n",
    "beta\n"
   ]
  },
  {
   "cell_type": "markdown",
   "metadata": {},
   "source": [
    "---\n",
    "Now, we are going to do something slightly more complicated, which is trying to fit a line through three points\n",
    "\n",
    "Thus, let's suppose we are given the followign dataset:\n",
    "\n",
    "point | x | y\n",
    "- | - | -\n",
    "$p_1$ | 1 | 1\n",
    "$p_2$ | 3 | 2\n",
    "$p_3$ | 4 | 1.5\n"
   ]
  },
  {
   "cell_type": "code",
   "execution_count": 2,
   "metadata": {
    "scrolled": true
   },
   "outputs": [
    {
     "data": {
      "image/png": "[encoded data removed]",
      "text/plain": [
       "<matplotlib.figure.Figure at 0x7fd4ac049978>"
      ]
     },
     "metadata": {},
     "output_type": "display_data"
    }
   ],
   "source": [
    "import matplotlib.pyplot as plt\n",
    "%matplotlib inline\n",
    "\n",
    "# (1,1), (3,2), (4,1.5)\n",
    "# horizontal lines\n",
    "plt.plot([0, 1], [1,1], color='grey', linewidth=2,linestyle='dotted')\n",
    "plt.plot([0, 3], [2,2], color='grey', linewidth=2,linestyle='dotted')\n",
    "plt.plot([0, 4], [1.5,1.5], color='grey', linewidth=2,linestyle='dotted')\n",
    "# vertical lines\n",
    "plt.plot([1,1],[0,1], color='grey', linewidth=2,linestyle='dotted')\n",
    "plt.plot([3,3],[0,2], color='grey', linewidth=2,linestyle='dotted')\n",
    "plt.plot([4,4],[0,1.5], color='grey', linewidth=2,linestyle='dotted')\n",
    "\n",
    "plt.plot([1,3,4],[1,2,1.5], 'd', markersize=10)\n",
    "plt.xlabel('x')\n",
    "plt.ylabel('y')\n",
    "plt.show()"
   ]
  },
  {
   "cell_type": "markdown",
   "metadata": {},
   "source": [
    "Due to there is no line that exactly fit these three points, we should be able to find, at least, the **closer line** to the points .\n",
    "\n",
    "The matrix formulation we have seen, has the virtue that it is **generalizable** when problems becomes more complicated.\n",
    "\n",
    "\n",
    "As we know, using **linear regression** our *hypothesis* is that the ***functional relationship*** amonth the three points can be **modeled** as a **line**, represented as:\n",
    "\n",
    "$$\n",
    "\\begin{align*}\n",
    "y &= f(x) \\\\\n",
    "  &= \\beta_0 x_0 + \\beta_{1}x_{1} \\quad  \\text{where $x_0=1$}\\\\\n",
    "  &= \\sum_{i=0}^1 \\beta_{i}x_{i} \\\\\n",
    "\\end{align*}\n",
    "$$\n",
    "\n",
    "\n",
    "Now, let's update our system of equations to accommodate the additional point $p_3$\n",
    "\n",
    "point | $x_0$ | $x_1$| $y$ | M o d e l :  $ y = \\beta_{0} x_{0} + \\beta_1 x_1 $\n",
    "-|-|-|-|-\n",
    "$p_1$ |1|1|1| $\\small{1 = \\beta_0 (1) + \\beta_{1} (1)}$  \n",
    "$p_2$ |1|3|2| $\\small{2 = \\beta_0 (1) + \\beta_{1} (3)}$ \n",
    "$p_3$ |1|4|1.5| $\\small{ 1.5 = \\beta_0 (1) + \\beta_{1} (4)}$ "
   ]
  },
  {
   "cell_type": "markdown",
   "metadata": {},
   "source": [
    "In our updated system, we have now **two unknowns** and **three equations** or **constraints**. This type of systems are commonly referred as **overdetermined system**, which implies that there is no **exact solution**.\n",
    "\n",
    "Thus, the system may be written as the matrix equation $\\mathbf{A} \\cdot \\boldsymbol{\\beta} = \\mathbf{y} $, \n",
    "\n",
    "$$\n",
    "\\begin{bmatrix}\n",
    "1 & 1 \\\\ 1 & 3 \\\\ 1 & 4 \\\\\n",
    "\\end{bmatrix}\n",
    "\\cdot\n",
    "\\begin{bmatrix} \n",
    "\\beta_{0}\\\\ \\beta_{1}\n",
    "\\end{bmatrix} \n",
    "=\n",
    "\\begin{bmatrix} \n",
    "1\\\\ 2 \\\\ 1.5\n",
    "\\end{bmatrix} \n",
    "$$"
   ]
  },
  {
   "cell_type": "markdown",
   "metadata": {},
   "source": [
    "> **NOTE**: Notice that if we add more points to the system, the \"shape\" of the systems remains practically the same, \n",
    "\n",
    "$$\n",
    "\\begin{bmatrix}\n",
    "1\\text{'s} & \\boldsymbol{\\beta}_{1}\\text{'s}\\\\\n",
    "\\end{bmatrix}\n",
    "\\cdot\n",
    "\\begin{bmatrix} \n",
    "p\\text{'s}\n",
    "\\end{bmatrix} \n",
    "=\n",
    "\\begin{bmatrix} \n",
    "y\\text{'s}\n",
    "\\end{bmatrix} \n",
    "$$\n",
    "\n",
    "the **coefficient matrix** has the form of a *special matrix* called the **Vandermonde**, so, the system may be written as  \n",
    "$$\n",
    "\\mathbf{V}_{n\\times2} \\cdot \\mathbf{p}_{2\\times1} = \\mathbf{y}_{n\\times1} \n",
    "$$\n",
    "\n",
    "where $n$ is the number of points (three in our case), and the number $2$  is the number of parameters. \n"
   ]
  },
  {
   "cell_type": "code",
   "execution_count": 3,
   "metadata": {},
   "outputs": [
    {
     "data": {
      "text/plain": [
       "((3, 2), (3, 1))"
      ]
     },
     "execution_count": 3,
     "metadata": {},
     "output_type": "execute_result"
    }
   ],
   "source": [
    "from numpy import matrix, dot\n",
    "from numpy.linalg import  inv\n",
    "\n",
    "A = matrix('1,1 ; 3,1 ; 4,1') \n",
    "y = matrix('1 ; 2 ; 1.5')  \n",
    "A.shape, y.shape "
   ]
  },
  {
   "cell_type": "code",
   "execution_count": 4,
   "metadata": {},
   "outputs": [
    {
     "ename": "LinAlgError",
     "evalue": "Last 2 dimensions of the array must be square",
     "output_type": "error",
     "traceback": [
      "\u001b[0;31m---------------------------------------------------------------------------\u001b[0m",
      "\u001b[0;31mLinAlgError\u001b[0m                               Traceback (most recent call last)",
      "\u001b[0;32m<ipython-input-4-f363d3d0312d>\u001b[0m in \u001b[0;36m<module>\u001b[0;34m()\u001b[0m\n\u001b[0;32m----> 1\u001b[0;31m \u001b[0mbeta\u001b[0m\u001b[0;34m=\u001b[0m \u001b[0mdot\u001b[0m\u001b[0;34m(\u001b[0m\u001b[0minv\u001b[0m\u001b[0;34m(\u001b[0m\u001b[0mA\u001b[0m\u001b[0;34m)\u001b[0m\u001b[0;34m,\u001b[0m \u001b[0my\u001b[0m\u001b[0;34m)\u001b[0m\u001b[0;34m\u001b[0m\u001b[0m\n\u001b[0m\u001b[1;32m      2\u001b[0m \u001b[0mbeta\u001b[0m\u001b[0;34m\u001b[0m\u001b[0m\n",
      "\u001b[0;32m/usr/local/lib/python3.5/dist-packages/numpy/linalg/linalg.py\u001b[0m in \u001b[0;36minv\u001b[0;34m(a)\u001b[0m\n\u001b[1;32m    515\u001b[0m     \u001b[0ma\u001b[0m\u001b[0;34m,\u001b[0m \u001b[0mwrap\u001b[0m \u001b[0;34m=\u001b[0m \u001b[0m_makearray\u001b[0m\u001b[0;34m(\u001b[0m\u001b[0ma\u001b[0m\u001b[0;34m)\u001b[0m\u001b[0;34m\u001b[0m\u001b[0m\n\u001b[1;32m    516\u001b[0m     \u001b[0m_assertRankAtLeast2\u001b[0m\u001b[0;34m(\u001b[0m\u001b[0ma\u001b[0m\u001b[0;34m)\u001b[0m\u001b[0;34m\u001b[0m\u001b[0m\n\u001b[0;32m--> 517\u001b[0;31m     \u001b[0m_assertNdSquareness\u001b[0m\u001b[0;34m(\u001b[0m\u001b[0ma\u001b[0m\u001b[0;34m)\u001b[0m\u001b[0;34m\u001b[0m\u001b[0m\n\u001b[0m\u001b[1;32m    518\u001b[0m     \u001b[0mt\u001b[0m\u001b[0;34m,\u001b[0m \u001b[0mresult_t\u001b[0m \u001b[0;34m=\u001b[0m \u001b[0m_commonType\u001b[0m\u001b[0;34m(\u001b[0m\u001b[0ma\u001b[0m\u001b[0;34m)\u001b[0m\u001b[0;34m\u001b[0m\u001b[0m\n\u001b[1;32m    519\u001b[0m \u001b[0;34m\u001b[0m\u001b[0m\n",
      "\u001b[0;32m/usr/local/lib/python3.5/dist-packages/numpy/linalg/linalg.py\u001b[0m in \u001b[0;36m_assertNdSquareness\u001b[0;34m(*arrays)\u001b[0m\n\u001b[1;32m    210\u001b[0m     \u001b[0;32mfor\u001b[0m \u001b[0ma\u001b[0m \u001b[0;32min\u001b[0m \u001b[0marrays\u001b[0m\u001b[0;34m:\u001b[0m\u001b[0;34m\u001b[0m\u001b[0m\n\u001b[1;32m    211\u001b[0m         \u001b[0;32mif\u001b[0m \u001b[0mmax\u001b[0m\u001b[0;34m(\u001b[0m\u001b[0ma\u001b[0m\u001b[0;34m.\u001b[0m\u001b[0mshape\u001b[0m\u001b[0;34m[\u001b[0m\u001b[0;34m-\u001b[0m\u001b[0;36m2\u001b[0m\u001b[0;34m:\u001b[0m\u001b[0;34m]\u001b[0m\u001b[0;34m)\u001b[0m \u001b[0;34m!=\u001b[0m \u001b[0mmin\u001b[0m\u001b[0;34m(\u001b[0m\u001b[0ma\u001b[0m\u001b[0;34m.\u001b[0m\u001b[0mshape\u001b[0m\u001b[0;34m[\u001b[0m\u001b[0;34m-\u001b[0m\u001b[0;36m2\u001b[0m\u001b[0;34m:\u001b[0m\u001b[0;34m]\u001b[0m\u001b[0;34m)\u001b[0m\u001b[0;34m:\u001b[0m\u001b[0;34m\u001b[0m\u001b[0m\n\u001b[0;32m--> 212\u001b[0;31m             \u001b[0;32mraise\u001b[0m \u001b[0mLinAlgError\u001b[0m\u001b[0;34m(\u001b[0m\u001b[0;34m'Last 2 dimensions of the array must be square'\u001b[0m\u001b[0;34m)\u001b[0m\u001b[0;34m\u001b[0m\u001b[0m\n\u001b[0m\u001b[1;32m    213\u001b[0m \u001b[0;34m\u001b[0m\u001b[0m\n\u001b[1;32m    214\u001b[0m \u001b[0;32mdef\u001b[0m \u001b[0m_assertFinite\u001b[0m\u001b[0;34m(\u001b[0m\u001b[0;34m*\u001b[0m\u001b[0marrays\u001b[0m\u001b[0;34m)\u001b[0m\u001b[0;34m:\u001b[0m\u001b[0;34m\u001b[0m\u001b[0m\n",
      "\u001b[0;31mLinAlgError\u001b[0m: Last 2 dimensions of the array must be square"
     ]
    }
   ],
   "source": [
    "beta= dot(inv(A), y) \n",
    "beta"
   ]
  },
  {
   "cell_type": "markdown",
   "metadata": {},
   "source": [
    "What this **error** basically says is that the linear system cannot be solved explicitly\n",
    "+ The solution $\\mathbf{A}^{-1}$ can only be used to find the \n",
    "**exact solution** for a **well-determined system** (i.e *sqare coefficient matrix*)\n",
    "+ If systems are *under*- or *over*-determined, there is usually no exact solution \n",
    "\n",
    "We can use a method called **least-squares-fitting** (numpy.linalg.lstsq), \n",
    "to find an **approximate solution**, which ***minimizes*** the **overall approximation error**."
   ]
  },
  {
   "cell_type": "markdown",
   "metadata": {},
   "source": [
    "# Least squares in Python"
   ]
  },
  {
   "cell_type": "code",
   "execution_count": 5,
   "metadata": {},
   "outputs": [
    {
     "data": {
      "text/plain": [
       "((3, 2), (3, 1))"
      ]
     },
     "execution_count": 5,
     "metadata": {},
     "output_type": "execute_result"
    }
   ],
   "source": [
    "from numpy import matrix\n",
    "from numpy.linalg import lstsq\n",
    "\n",
    "A = matrix('1,1 ; 3,1 ; 4,1') \n",
    "y = matrix('1 ; 2 ; 1.5')  \n",
    "A.shape, y.shape "
   ]
  },
  {
   "cell_type": "code",
   "execution_count": 6,
   "metadata": {},
   "outputs": [
    {
     "data": {
      "text/plain": [
       "matrix([[1, 1],\n",
       "        [3, 1],\n",
       "        [4, 1]])"
      ]
     },
     "execution_count": 6,
     "metadata": {},
     "output_type": "execute_result"
    }
   ],
   "source": [
    "A"
   ]
  },
  {
   "cell_type": "code",
   "execution_count": 7,
   "metadata": {},
   "outputs": [
    {
     "data": {
      "text/plain": [
       "matrix([[ 1. ],\n",
       "        [ 2. ],\n",
       "        [ 1.5]])"
      ]
     },
     "execution_count": 7,
     "metadata": {},
     "output_type": "execute_result"
    }
   ],
   "source": [
    "y"
   ]
  },
  {
   "cell_type": "code",
   "execution_count": 8,
   "metadata": {},
   "outputs": [
    {
     "data": {
      "text/plain": [
       "(matrix([[ 0.21428571],\n",
       "         [ 0.92857143]]),\n",
       " matrix([[ 0.28571429]]),\n",
       " 2,\n",
       " array([ 5.33937503,  0.70076692]))"
      ]
     },
     "execution_count": 8,
     "metadata": {},
     "output_type": "execute_result"
    }
   ],
   "source": [
    "soln = lstsq(A, y)\n",
    "soln"
   ]
  },
  {
   "cell_type": "code",
   "execution_count": 9,
   "metadata": {
    "collapsed": true
   },
   "outputs": [],
   "source": [
    "m, c = soln[0]  # Least-squares solution\n",
    "e =  soln[1]    # Sums of residuals\n",
    "rank = soln[2]  # Rank of matrix A\n",
    "s = soln[3]     # Singular values of A"
   ]
  },
  {
   "cell_type": "code",
   "execution_count": 10,
   "metadata": {},
   "outputs": [
    {
     "name": "stdout",
     "output_type": "stream",
     "text": [
      "[[ 0.21428571]] [[ 0.92857143]] [[ 0.28571429]] 2 [ 5.33937503  0.70076692]\n"
     ]
    }
   ],
   "source": [
    "print(m, c, e, rank, s)"
   ]
  },
  {
   "cell_type": "code",
   "execution_count": 11,
   "metadata": {
    "scrolled": true
   },
   "outputs": [
    {
     "data": {
      "image/png": "[encoded data removed]",
      "text/plain": [
       "<matplotlib.figure.Figure at 0x7fd4ac049a20>"
      ]
     },
     "metadata": {},
     "output_type": "display_data"
    }
   ],
   "source": [
    "import matplotlib.pyplot as plt\n",
    "%matplotlib inline    \n",
    "\n",
    "x = A[:,0]\n",
    "plt.plot(x, y, 'd', label='Original data', markersize=10)\n",
    "plt.plot(x, x*m + c, 'r', label='Fitted line', lw = 2)\n",
    "plt.legend()\n",
    "plt.show()"
   ]
  },
  {
   "cell_type": "markdown",
   "metadata": {},
   "source": [
    "# Approximation theory (review)\n",
    "\n",
    "What if a system of equations have no solution?\n",
    "\n",
    "$$\n",
    "\\mathbf{A}\\cdot \\mathbf{x} = \\mathbf{b}\n",
    "$$\n",
    "\n",
    "**Approximation theory** is concerned with how functions can ***best be approximated*** with simpler functions. Thus, the matrix equation we are interested in is \n",
    "\n",
    "$$\n",
    "\\mathbf{A}^{T}\\cdot \\mathbf{A} \\cdot \\hat{\\mathbf{x}} =\n",
    "\\mathbf{A}^{T} \\cdot \\mathbf{b}\n",
    "$$\n",
    "\n",
    "\n",
    "> **NOTE**: In fact, the overall key idea of **approximation theory** is to replace ***something complicated*** by ***something simple***\n",
    "+ replace $\\pi$ by 3.1416\n",
    "+ replace complicated function by tangents\n",
    "+ replace complicated function by Taylor polynomials\n",
    "+ replace complicated function by partial sum of Fourier series\n",
    "+ **data compression** (image, mp3)\n",
    "\n",
    "\n",
    "The big topics for approximation theory:\n",
    "+ Vector Spaces\n",
    "+ Norms, Inner Products, and Orthogonality\n",
    "+ Eigenvalues and Eigenvectors\n",
    "+ Correlation and convolution\n",
    "\n"
   ]
  },
  {
   "cell_type": "markdown",
   "metadata": {},
   "source": [
    "![alt text](./images/advertisement_3d.png \"advertisement_3d\")\n"
   ]
  },
  {
   "cell_type": "markdown",
   "metadata": {},
   "source": [
    "# What's next?\n",
    "\n",
    "+ General Least Squares Problem\n",
    "+ Normal equations\n",
    "+ Gradient descent\n"
   ]
  }
 ],
 "metadata": {
  "kernelspec": {
   "display_name": "Python 3",
   "language": "python",
   "name": "python3"
  },
  "language_info": {
   "codemirror_mode": {
    "name": "ipython",
    "version": 3
   },
   "file_extension": ".py",
   "mimetype": "text/x-python",
   "name": "python",
   "nbconvert_exporter": "python",
   "pygments_lexer": "ipython3",
   "version": "3.5.2"
  }
 },
 "nbformat": 4,
 "nbformat_minor": 2
}
